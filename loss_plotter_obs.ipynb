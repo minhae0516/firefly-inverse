{
 "cells": [
  {
   "cell_type": "code",
   "execution_count": 1,
   "metadata": {},
   "outputs": [
    {
     "name": "stdout",
     "output_type": "stream",
     "text": [
      "12 cores are available\n",
      "Running DDPG Agent: using  cpu\n"
     ]
    }
   ],
   "source": [
    "import torch\n",
    "import torch.nn as nn\n",
    "from torch.autograd import grad\n",
    "import pandas as pd\n",
    "from InverseFuncs import trajectory, getLoss, reset_theta, theta_range\n",
    "\n",
    "from DDPGv2Agent import Agent\n",
    "from FireflyEnv import Model # firefly_task.py\n",
    "from collections import deque\n",
    "from Inverse_Config import Inverse_Config\n",
    "import matplotlib.pyplot as plt\n",
    "import matplotlib.colors as colors\n",
    "\n",
    "# read configuration parameters\n",
    "arg = Inverse_Config()\n",
    "\n",
    "# fix random seed\n",
    "import random\n",
    "random.seed(arg.SEED_NUMBER)\n",
    "import torch\n",
    "torch.manual_seed(arg.SEED_NUMBER)\n",
    "if torch.cuda.is_available():\n",
    "    torch.cuda.manual_seed(arg.SEED_NUMBER)\n",
    "import numpy as np\n",
    "np.random.seed(arg.SEED_NUMBER)\n",
    "import time\n",
    "\n",
    "torch.backends.cudnn.deterministic = True\n",
    "torch.backends.cudnn.benchmark = False\n",
    "\n",
    "\n",
    "import multiprocessing\n",
    "from joblib import Parallel, delayed\n",
    "from tqdm import tqdm\n",
    "\n",
    "num_cores = multiprocessing.cpu_count()\n",
    "print(\"{} cores are available\".format(num_cores))\n",
    "\n",
    "# if gpu is to be used\n",
    "#CUDA = False\n",
    "#device = \"cpu\"\n",
    "\n",
    "CUDA = torch.cuda.is_available()\n",
    "device = torch.device(\"cuda\" if torch.cuda.is_available() else \"cpu\")\n",
    "\n",
    "tic = time.time()\n",
    "\n",
    "\n",
    "\n",
    "filename = '20191231-172726-01081157' # agent information\n",
    "\n",
    "learning_arg = torch.load('../firefly-inverse-data/data/20191231-172726_arg.pkl')\n",
    "\n",
    "DISCOUNT_FACTOR = learning_arg.DISCOUNT_FACTOR\n",
    "arg.gains_range = learning_arg.gains_range\n",
    "arg.std_range = learning_arg.std_range\n",
    "arg.goal_radius_range = learning_arg.goal_radius_range\n",
    "arg.WORLD_SIZE = learning_arg.WORLD_SIZE\n",
    "arg.DELTA_T = learning_arg.DELTA_T\n",
    "arg.EPISODE_TIME = learning_arg.EPISODE_TIME\n",
    "arg.EPISODE_LEN = learning_arg.EPISODE_LEN\n",
    "arg.PI_STD = 0.1\n",
    "arg.NUM_EP = 500\n",
    "\n",
    "\n",
    "\n",
    "env = Model(arg) # build an environment\n",
    "env.max_goal_radius = arg.goal_radius_range[1] # use the largest world size for goal radius\n",
    "env.box = arg.WORLD_SIZE\n",
    "agent = Agent(env.state_dim, env.action_dim, arg,  filename, hidden_dim=128, gamma=DISCOUNT_FACTOR, tau=0.001) #, device = \"cpu\")\n",
    "agent.load(filename)\n"
   ]
  },
  {
   "cell_type": "code",
   "execution_count": 2,
   "metadata": {},
   "outputs": [
    {
     "data": {
      "text/plain": [
       "0.1"
      ]
     },
     "execution_count": 2,
     "metadata": {},
     "output_type": "execute_result"
    }
   ],
   "source": [
    "arg.PI_STD"
   ]
  },
  {
   "cell_type": "code",
   "execution_count": 3,
   "metadata": {},
   "outputs": [
    {
     "data": {
      "text/plain": [
       "500"
      ]
     },
     "execution_count": 3,
     "metadata": {},
     "output_type": "execute_result"
    }
   ],
   "source": [
    "arg.NUM_EP"
   ]
  },
  {
   "cell_type": "code",
   "execution_count": 4,
   "metadata": {},
   "outputs": [
    {
     "data": {
      "text/plain": [
       "5"
      ]
     },
     "execution_count": 4,
     "metadata": {},
     "output_type": "execute_result"
    }
   ],
   "source": [
    "arg.NUM_SAMPLES"
   ]
  },
  {
   "cell_type": "code",
   "execution_count": 5,
   "metadata": {},
   "outputs": [],
   "source": [
    "def loss_cal(vel, obs_gains_vel, gain_space, true_theta):\n",
    "    \n",
    "    loss_log = torch.zeros(len(gain_space)+1)\n",
    "    pro_gains = torch.zeros(2)\n",
    "    pro_noise_stds = torch.zeros(2)\n",
    "    obs_gains = torch.zeros(2)\n",
    "    obs_noise_stds = torch.zeros(2)\n",
    "    goal_radius = torch.zeros(1)\n",
    "    \n",
    "    theta_log = []\n",
    "    inputs_ang = np.sort(np.append(gain_space, true_theta[5]))\n",
    "\n",
    "    obs_gains[0] = obs_gains_vel\n",
    "    for ang, obs_gains_ang in enumerate(tqdm(inputs_ang)):\n",
    "        obs_gains[1] = obs_gains_ang\n",
    "        for pro_gains_vel  in [true_theta[0]]:#np.append(gain_space, true_theta[4]):\n",
    "            pro_gains[0] = pro_gains_vel\n",
    "            for pro_gains_ang in [true_theta[1]]:#np.append(gain_space, true_theta[5]):\n",
    "                pro_gains[1] = pro_gains_ang\n",
    "                for pro_std_vel in [true_theta[2]]:#np.append(std_space, true_theta[2]):\n",
    "                    pro_noise_stds[0] = pro_std_vel\n",
    "                    for pro_std_ang in [true_theta[3]]:#np.append(std_space, true_theta[3]):\n",
    "                        pro_noise_stds[1] = pro_std_ang\n",
    "                        for obs_std_vel in [true_theta[6]]:#np.append(std_space, true_theta[6]):\n",
    "                            obs_noise_stds[0] = obs_std_vel \n",
    "                            for obs_std_ang in [true_theta[7]]:#np.append(std_space, true_theta[7]):\n",
    "                                obs_noise_stds[1] = obs_std_ang\n",
    "                                for goal_r in [true_theta[8]]: #np.append(goal_radius_space, true_theta[8]):\n",
    "                                    goal_radius[0] = goal_r\n",
    "                                    \n",
    "                                    \n",
    "                                    theta = torch.cat([pro_gains, pro_noise_stds, obs_gains, obs_noise_stds, goal_radius])\n",
    "    \n",
    "    \n",
    "                                    theta_log.append(theta.data)\n",
    "                                    loss = getLoss(agent, x_traj, a_traj, theta, env, arg.gains_range, arg.std_range, arg.PI_STD, arg.NUM_SAMPLES)\n",
    "                                    loss_log[ang] = loss.data\n",
    "                                    #loss_log.append(loss.data)\n",
    "\n",
    "                                    print(\"num:{}, theta:{}, loss:{}\".format(vel, theta, loss))\n",
    "                        \n",
    "                        \n",
    "    \"\"\"\n",
    "    result = {'true_theta': true_theta,\n",
    "         'true_loss': true_loss,\n",
    "         'theta_log': theta_log,\n",
    "         'loss_log': loss_log}\n",
    "    \"\"\"\n",
    "    return loss_log\n"
   ]
  },
  {
   "cell_type": "code",
   "execution_count": 6,
   "metadata": {},
   "outputs": [
    {
     "name": "stdout",
     "output_type": "stream",
     "text": [
      "true loss:47879.9609375\n",
      "true_theta:tensor([11.4042,  8.6168,  0.2885,  0.9043, 11.1173,  8.1504,  1.7711,  0.1619,\n",
      "         0.2809])\n"
     ]
    }
   ],
   "source": [
    "# true theta\n",
    "true_theta = reset_theta(arg.gains_range, arg.std_range, arg.goal_radius_range)\n",
    "#true_theta[4]=8.5\n",
    "#true_theta[5]=10.5\n",
    "\n",
    "x_traj, obs_traj, a_traj, _ = trajectory(agent, true_theta, env, arg, arg.gains_range, arg.std_range,arg.goal_radius_range, arg.NUM_EP)  # generate true trajectory\n",
    "true_loss = getLoss(agent, x_traj, a_traj, true_theta, env, arg.gains_range, arg.std_range, arg.PI_STD, arg.NUM_SAMPLES)  # this is the lower bound of loss?\n",
    "print(\"true loss:{}\".format(true_loss))\n",
    "print(\"true_theta:{}\".format(true_theta))\n",
    "\n"
   ]
  },
  {
   "cell_type": "code",
   "execution_count": 7,
   "metadata": {},
   "outputs": [],
   "source": [
    "gain_space = np.linspace(arg.gains_range[0],arg.gains_range[1], num = 9)\n",
    "std_space = np.linspace(arg.std_range[0], arg.std_range[1], num = 3)\n",
    "goal_radius_space = np.linspace(arg.goal_radius_range[0], arg.goal_radius_range[1], num =3)"
   ]
  },
  {
   "cell_type": "code",
   "execution_count": 8,
   "metadata": {},
   "outputs": [
    {
     "data": {
      "text/plain": [
       "array([ 8. ,  8.5,  9. ,  9.5, 10. , 10.5, 11. , 11.5, 12. ])"
      ]
     },
     "execution_count": 8,
     "metadata": {},
     "output_type": "execute_result"
    }
   ],
   "source": [
    "gain_space"
   ]
  },
  {
   "cell_type": "code",
   "execution_count": 9,
   "metadata": {},
   "outputs": [
    {
     "data": {
      "text/plain": [
       "tensor([11.4042,  8.6168,  0.2885,  0.9043, 11.1173,  8.1504,  1.7711,  0.1619,\n",
       "         0.2809])"
      ]
     },
     "execution_count": 9,
     "metadata": {},
     "output_type": "execute_result"
    }
   ],
   "source": [
    "true_theta\n"
   ]
  },
  {
   "cell_type": "code",
   "execution_count": 10,
   "metadata": {},
   "outputs": [
    {
     "data": {
      "text/plain": [
       "'\\nfor vel, pro_gains_vel in enumerate(inputs): \\n    result_log = loss_cal(vel, pro_gains_vel, gain_space, true_theta) \\n'"
      ]
     },
     "execution_count": 10,
     "metadata": {},
     "output_type": "execute_result"
    }
   ],
   "source": [
    "inputs_vel = np.sort(np.append(gain_space, true_theta[4]))\n",
    "inputs_ang = np.sort(np.append(gain_space, true_theta[5]))\n",
    "#loss_log = torch.zeros([len(gain_space)+1, len(gain_space)+1])\n",
    "loss_log = Parallel(n_jobs=num_cores)(delayed(loss_cal)(vel, obs_gains_vel, gain_space, true_theta) for vel, obs_gains_vel in enumerate(inputs_vel))\n",
    "\n",
    "\"\"\"\n",
    "for vel, pro_gains_vel in enumerate(inputs): \n",
    "    result_log = loss_cal(vel, pro_gains_vel, gain_space, true_theta) \n",
    "\"\"\"\n"
   ]
  },
  {
   "cell_type": "code",
   "execution_count": 11,
   "metadata": {},
   "outputs": [
    {
     "data": {
      "text/plain": [
       "[tensor([52028.9531, 52703.2227, 52073.6250, 50875.3633, 49326.3203, 49819.1758,\n",
       "         48587.0664, 47184.9141, 46193.7578, 49343.9883]),\n",
       " tensor([50793.4180, 50146.2930, 51599.1016, 46675.5625, 49042.9023, 44384.9492,\n",
       "         46781.6406, 47421.5195, 48600.4492, 48474.6133]),\n",
       " tensor([51348.0820, 50864.3320, 49682.0234, 49733.5859, 48111.5156, 46887.9922,\n",
       "         47222.6758, 46424.6523, 46858.9180, 52897.1680]),\n",
       " tensor([49151.8906, 50225.7422, 47988.3320, 46962.3750, 45168.7344, 47962.5898,\n",
       "         46193.3516, 47560.1953, 49764.4492, 52816.8281]),\n",
       " tensor([49089.2422, 48928.3789, 47662.3984, 46271.1055, 46768.0352, 47500.1680,\n",
       "         49639.8555, 51331.6836, 54329.6992, 55552.4141]),\n",
       " tensor([45541.1367, 45079.7070, 47054.2891, 44195.9453, 46765.8047, 48107.3125,\n",
       "         49724.3125, 51853.2656, 53870.2031, 55605.8438]),\n",
       " tensor([44520.2891, 44577.8047, 46383.4648, 46549.4062, 47557.6680, 50421.7617,\n",
       "         53240.4609, 52587.2734, 56362.5430, 57750.7852]),\n",
       " tensor([44693.3555, 43817.4453, 45855.2109, 51514.6797, 48138.7148, 52451.4531,\n",
       "         54386.0703, 53156.0000, 56856.0938, 56260.4102]),\n",
       " tensor([42367.2695, 45642.8594, 47493.8281, 47077.9570, 50049.9336, 52099.4844,\n",
       "         53107.1562, 53901.3086, 56787.8594, 58440.7734]),\n",
       " tensor([46814.0352, 47507.3516, 47483.2773, 51291.9805, 49533.4961, 54425.5977,\n",
       "         55284.0586, 59325.3516, 57631.4766, 59735.8711])]"
      ]
     },
     "execution_count": 11,
     "metadata": {},
     "output_type": "execute_result"
    }
   ],
   "source": [
    "loss_log\n",
    "    "
   ]
  },
  {
   "cell_type": "code",
   "execution_count": 12,
   "metadata": {},
   "outputs": [],
   "source": [
    "loss_log_tot = torch.cat([loss_log[i] for i in range (len(loss_log))])"
   ]
  },
  {
   "cell_type": "code",
   "execution_count": 13,
   "metadata": {},
   "outputs": [
    {
     "data": {
      "text/plain": [
       "tensor([52028.9531, 52703.2227, 52073.6250, 50875.3633, 49326.3203, 49819.1758,\n",
       "        48587.0664, 47184.9141, 46193.7578, 49343.9883, 50793.4180, 50146.2930,\n",
       "        51599.1016, 46675.5625, 49042.9023, 44384.9492, 46781.6406, 47421.5195,\n",
       "        48600.4492, 48474.6133, 51348.0820, 50864.3320, 49682.0234, 49733.5859,\n",
       "        48111.5156, 46887.9922, 47222.6758, 46424.6523, 46858.9180, 52897.1680,\n",
       "        49151.8906, 50225.7422, 47988.3320, 46962.3750, 45168.7344, 47962.5898,\n",
       "        46193.3516, 47560.1953, 49764.4492, 52816.8281, 49089.2422, 48928.3789,\n",
       "        47662.3984, 46271.1055, 46768.0352, 47500.1680, 49639.8555, 51331.6836,\n",
       "        54329.6992, 55552.4141, 45541.1367, 45079.7070, 47054.2891, 44195.9453,\n",
       "        46765.8047, 48107.3125, 49724.3125, 51853.2656, 53870.2031, 55605.8438,\n",
       "        44520.2891, 44577.8047, 46383.4648, 46549.4062, 47557.6680, 50421.7617,\n",
       "        53240.4609, 52587.2734, 56362.5430, 57750.7852, 44693.3555, 43817.4453,\n",
       "        45855.2109, 51514.6797, 48138.7148, 52451.4531, 54386.0703, 53156.0000,\n",
       "        56856.0938, 56260.4102, 42367.2695, 45642.8594, 47493.8281, 47077.9570,\n",
       "        50049.9336, 52099.4844, 53107.1562, 53901.3086, 56787.8594, 58440.7734,\n",
       "        46814.0352, 47507.3516, 47483.2773, 51291.9805, 49533.4961, 54425.5977,\n",
       "        55284.0586, 59325.3516, 57631.4766, 59735.8711])"
      ]
     },
     "execution_count": 13,
     "metadata": {},
     "output_type": "execute_result"
    }
   ],
   "source": [
    "loss_log_tot"
   ]
  },
  {
   "cell_type": "code",
   "execution_count": 14,
   "metadata": {},
   "outputs": [
    {
     "data": {
      "text/plain": [
       "tensor([11.4042,  8.6168,  0.2885,  0.9043, 11.1173,  8.1504,  1.7711,  0.1619,\n",
       "         0.2809])"
      ]
     },
     "execution_count": 14,
     "metadata": {},
     "output_type": "execute_result"
    }
   ],
   "source": [
    "true_theta"
   ]
  },
  {
   "cell_type": "code",
   "execution_count": 15,
   "metadata": {},
   "outputs": [],
   "source": [
    "dx, dy = 0.25, 0.25\n",
    "new_gain_space = np.append(gain_space, gain_space.max()+0.5)\n",
    "\n",
    "pinputs_vel = np.sort(np.append(new_gain_space, true_theta[4]))\n",
    "pinputs_ang = np.sort(np.append(new_gain_space, true_theta[5]))\n",
    "y, x = np.meshgrid(pinputs_vel-dx, pinputs_ang-dy)"
   ]
  },
  {
   "cell_type": "code",
   "execution_count": 16,
   "metadata": {},
   "outputs": [
    {
     "data": {
      "text/plain": [
       "array([ 8. ,  8.5,  9. ,  9.5, 10. , 10.5, 11. , 11.5, 12. , 12.5])"
      ]
     },
     "execution_count": 16,
     "metadata": {},
     "output_type": "execute_result"
    }
   ],
   "source": [
    "new_gain_space"
   ]
  },
  {
   "cell_type": "code",
   "execution_count": 17,
   "metadata": {
    "scrolled": true
   },
   "outputs": [
    {
     "data": {
      "text/plain": [
       "Text(0.5, 1.0, 'true[forw,ang]:tensor([11.1173,  8.1504])')"
      ]
     },
     "execution_count": 17,
     "metadata": {},
     "output_type": "execute_result"
    },
    {
     "data": {
      "image/png": "[encoded data removed]",
      "text/plain": [
       "<Figure size 432x288 with 2 Axes>"
      ]
     },
     "metadata": {
      "needs_background": "light"
     },
     "output_type": "display_data"
    }
   ],
   "source": [
    "Z = loss_log_tot\n",
    "plt.pcolor(x, y, Z.view(len(inputs_vel), len(inputs_ang)), norm=colors.LogNorm(vmin=Z.min(), vmax=Z.max()))\n",
    "plt.colorbar()\n",
    "plt.xlabel('obs_ang')\n",
    "plt.ylabel('obs_forward')\n",
    "plt.title('true[forw,ang]:{}'.format(true_theta[4:6].data))"
   ]
  },
  {
   "cell_type": "code",
   "execution_count": 18,
   "metadata": {},
   "outputs": [],
   "source": [
    "torch.save(loss_log, '../firefly-inverse-data/data/'+filename+'loss_obs_plotter.pkl')"
   ]
  }
 ],
 "metadata": {
  "@webio": {
   "lastCommId": null,
   "lastKernelId": null
  },
  "kernelspec": {
   "display_name": "Python 3",
   "language": "python",
   "name": "python3"
  },
  "language_info": {
   "codemirror_mode": {
    "name": "ipython",
    "version": 3
   },
   "file_extension": ".py",
   "mimetype": "text/x-python",
   "name": "python",
   "nbconvert_exporter": "python",
   "pygments_lexer": "ipython3",
   "version": "3.7.4"
  }
 },
 "nbformat": 4,
 "nbformat_minor": 2
}
