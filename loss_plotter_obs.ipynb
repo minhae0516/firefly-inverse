{
 "cells": [
  {
   "cell_type": "code",
   "execution_count": 1,
   "metadata": {},
   "outputs": [
    {
     "name": "stdout",
     "output_type": "stream",
     "text": [
      "12 cores are available\n",
      "Running DDPG Agent: using  cpu\n"
     ]
    }
   ],
   "source": [
    "import torch\n",
    "import torch.nn as nn\n",
    "from torch.autograd import grad\n",
    "import pandas as pd\n",
    "from InverseFuncs import trajectory, getLoss, reset_theta, theta_range\n",
    "\n",
    "from DDPGv2Agent import Agent\n",
    "from FireflyEnv import Model # firefly_task.py\n",
    "from collections import deque\n",
    "from Inverse_Config import Inverse_Config\n",
    "import matplotlib.pyplot as plt\n",
    "import matplotlib.colors as colors\n",
    "\n",
    "# read configuration parameters\n",
    "arg = Inverse_Config()\n",
    "\n",
    "# fix random seed\n",
    "import random\n",
    "random.seed(arg.SEED_NUMBER)\n",
    "import torch\n",
    "torch.manual_seed(arg.SEED_NUMBER)\n",
    "if torch.cuda.is_available():\n",
    "    torch.cuda.manual_seed(arg.SEED_NUMBER)\n",
    "import numpy as np\n",
    "np.random.seed(arg.SEED_NUMBER)\n",
    "import time\n",
    "\n",
    "torch.backends.cudnn.deterministic = True\n",
    "torch.backends.cudnn.benchmark = False\n",
    "\n",
    "\n",
    "import multiprocessing\n",
    "from joblib import Parallel, delayed\n",
    "from tqdm import tqdm\n",
    "\n",
    "num_cores = multiprocessing.cpu_count()\n",
    "print(\"{} cores are available\".format(num_cores))\n",
    "\n",
    "# if gpu is to be used\n",
    "#CUDA = False\n",
    "#device = \"cpu\"\n",
    "\n",
    "CUDA = torch.cuda.is_available()\n",
    "device = torch.device(\"cuda\" if torch.cuda.is_available() else \"cpu\")\n",
    "\n",
    "tic = time.time()\n",
    "\n",
    "\n",
    "\n",
    "filename = '20191231-172726-01081157' # agent information\n",
    "\n",
    "learning_arg = torch.load('../firefly-inverse-data/data/20191231-172726_arg.pkl')\n",
    "\n",
    "DISCOUNT_FACTOR = learning_arg.DISCOUNT_FACTOR\n",
    "arg.gains_range = learning_arg.gains_range\n",
    "arg.std_range = learning_arg.std_range\n",
    "arg.goal_radius_range = learning_arg.goal_radius_range\n",
    "arg.WORLD_SIZE = learning_arg.WORLD_SIZE\n",
    "arg.DELTA_T = learning_arg.DELTA_T\n",
    "arg.EPISODE_TIME = learning_arg.EPISODE_TIME\n",
    "arg.EPISODE_LEN = learning_arg.EPISODE_LEN\n",
    "arg.PI_STD = 0.01\n",
    "arg.NUM_EP = 100\n",
    "arg.NUM_SAMPLES =5\n",
    "\n",
    "\n",
    "env = Model(arg) # build an environment\n",
    "env.max_goal_radius = arg.goal_radius_range[1] # use the largest world size for goal radius\n",
    "env.box = arg.WORLD_SIZE\n",
    "agent = Agent(env.state_dim, env.action_dim, arg,  filename, hidden_dim=128, gamma=DISCOUNT_FACTOR, tau=0.001) #, device = \"cpu\")\n",
    "agent.load(filename)\n"
   ]
  },
  {
   "cell_type": "code",
   "execution_count": 2,
   "metadata": {},
   "outputs": [
    {
     "data": {
      "text/plain": [
       "0.01"
      ]
     },
     "execution_count": 2,
     "metadata": {},
     "output_type": "execute_result"
    }
   ],
   "source": [
    "arg.PI_STD"
   ]
  },
  {
   "cell_type": "code",
   "execution_count": 3,
   "metadata": {},
   "outputs": [
    {
     "data": {
      "text/plain": [
       "100"
      ]
     },
     "execution_count": 3,
     "metadata": {},
     "output_type": "execute_result"
    }
   ],
   "source": [
    "arg.NUM_EP"
   ]
  },
  {
   "cell_type": "code",
   "execution_count": 4,
   "metadata": {},
   "outputs": [
    {
     "data": {
      "text/plain": [
       "5"
      ]
     },
     "execution_count": 4,
     "metadata": {},
     "output_type": "execute_result"
    }
   ],
   "source": [
    "arg.NUM_SAMPLES"
   ]
  },
  {
   "cell_type": "code",
   "execution_count": 5,
   "metadata": {},
   "outputs": [],
   "source": [
    "def loss_cal(vel, obs_gains_vel, gain_space, true_theta):\n",
    "    \n",
    "    loss_log = torch.zeros(len(gain_space)+1)\n",
    "    loss_act_log = torch.zeros(len(gain_space)+1)\n",
    "    loss_obs_log = torch.zeros(len(gain_space)+1)\n",
    "    pro_gains = torch.zeros(2)\n",
    "    pro_noise_stds = torch.zeros(2)\n",
    "    obs_gains = torch.zeros(2)\n",
    "    obs_noise_stds = torch.zeros(2)\n",
    "    goal_radius = torch.zeros(1)\n",
    "    \n",
    "    theta_log = []\n",
    "    inputs_ang = np.sort(np.append(gain_space, true_theta[5]))\n",
    "\n",
    "    obs_gains[0] = obs_gains_vel\n",
    "    for ang, obs_gains_ang in enumerate(tqdm(inputs_ang)):\n",
    "        obs_gains[1] = obs_gains_ang\n",
    "        for pro_gains_vel  in [true_theta[0]]:#np.append(gain_space, true_theta[4]):\n",
    "            pro_gains[0] = pro_gains_vel\n",
    "            for pro_gains_ang in [true_theta[1]]:#np.append(gain_space, true_theta[5]):\n",
    "                pro_gains[1] = pro_gains_ang\n",
    "                for pro_std_vel in [true_theta[2]]:#np.append(std_space, true_theta[2]):\n",
    "                    pro_noise_stds[0] = pro_std_vel\n",
    "                    for pro_std_ang in [true_theta[3]]:#np.append(std_space, true_theta[3]):\n",
    "                        pro_noise_stds[1] = pro_std_ang\n",
    "                        for obs_std_vel in [true_theta[6]]:#np.append(std_space, true_theta[6]):\n",
    "                            obs_noise_stds[0] = obs_std_vel \n",
    "                            for obs_std_ang in [true_theta[7]]:#np.append(std_space, true_theta[7]):\n",
    "                                obs_noise_stds[1] = obs_std_ang\n",
    "                                for goal_r in [true_theta[8]]: #np.append(goal_radius_space, true_theta[8]):\n",
    "                                    goal_radius[0] = goal_r\n",
    "                                    \n",
    "                                    \n",
    "                                    theta = torch.cat([pro_gains, pro_noise_stds, obs_gains, obs_noise_stds, goal_radius])\n",
    "    \n",
    "    \n",
    "                                    theta_log.append(theta.data)\n",
    "                                    loss, loss_act, loss_obs = getLoss(agent, x_traj, a_traj, theta, env, arg.gains_range, arg.std_range, arg.PI_STD, arg.NUM_SAMPLES)\n",
    "                                    loss_log[ang] = loss.data\n",
    "                                    loss_act_log[ang] = loss_act.data\n",
    "                                    loss_obs_log[ang] = loss_obs.data\n",
    "\n",
    "                                    print(\"num:{}, theta:{}, loss:{}\".format(vel, theta, loss))\n",
    "                        \n",
    "                        \n",
    "    result = {'loss_log': loss_log,\n",
    "         'loss_act_log': loss_act_log,\n",
    "         'loss_obs_log': loss_obs_log\n",
    "         }\n",
    "        \n",
    "    return result\n"
   ]
  },
  {
   "cell_type": "code",
   "execution_count": 6,
   "metadata": {},
   "outputs": [
    {
     "name": "stdout",
     "output_type": "stream",
     "text": [
      "true loss:tensor([2244546.5000], grad_fn=<AddBackward0>)\n",
      "true_theta:tensor([11.4042,  8.6168,  0.2885,  0.9043, 12.0000, 10.0000,  1.7711,  0.1619,\n",
      "         0.2809])\n"
     ]
    }
   ],
   "source": [
    "# true theta\n",
    "#true_theta = reset_theta(arg.gains_range, arg.std_range, arg.goal_radius_range)\n",
    "#true_theta[4]=8.5\n",
    "#true_theta[5]=10.5\n",
    "true_theta=torch.tensor([11.4042,  8.6168,  0.2885,  0.9043, 12, 10,  1.7711,  0.1619,0.2809])\n",
    "\n",
    "\n",
    "x_traj, obs_traj, a_traj, _ = trajectory(agent, true_theta, env, arg, arg.gains_range, arg.std_range,arg.goal_radius_range, arg.NUM_EP)  # generate true trajectory\n",
    "true_loss, true_act_loss, true_obs_loss = getLoss(agent, x_traj, a_traj, true_theta, env, arg.gains_range, arg.std_range, arg.PI_STD, arg.NUM_SAMPLES)  # this is the lower bound of loss?\n",
    "print(\"true loss:{}\".format(true_loss))\n",
    "print(\"true_theta:{}\".format(true_theta))\n",
    "\n",
    "current_theta = true_theta"
   ]
  },
  {
   "cell_type": "code",
   "execution_count": 7,
   "metadata": {},
   "outputs": [],
   "source": [
    "gain_space = np.linspace(arg.gains_range[0],arg.gains_range[1], num = 9)\n",
    "std_space = np.linspace(arg.std_range[0], arg.std_range[1], num = 3)\n",
    "goal_radius_space = np.linspace(arg.goal_radius_range[0], arg.goal_radius_range[1], num =3)"
   ]
  },
  {
   "cell_type": "code",
   "execution_count": 8,
   "metadata": {},
   "outputs": [
    {
     "data": {
      "text/plain": [
       "array([ 8. ,  8.5,  9. ,  9.5, 10. , 10.5, 11. , 11.5, 12. ])"
      ]
     },
     "execution_count": 8,
     "metadata": {},
     "output_type": "execute_result"
    }
   ],
   "source": [
    "gain_space"
   ]
  },
  {
   "cell_type": "code",
   "execution_count": 9,
   "metadata": {},
   "outputs": [
    {
     "data": {
      "text/plain": [
       "tensor([11.4042,  8.6168,  0.2885,  0.9043, 12.0000, 10.0000,  1.7711,  0.1619,\n",
       "         0.2809])"
      ]
     },
     "execution_count": 9,
     "metadata": {},
     "output_type": "execute_result"
    }
   ],
   "source": [
    "true_theta\n"
   ]
  },
  {
   "cell_type": "code",
   "execution_count": 10,
   "metadata": {},
   "outputs": [],
   "source": [
    "current_theta=torch.tensor([11.4042,  8.6168, 0.2885,  0.9043, 10, 10,\n",
    "        1.7711,  0.1619, 2.7253e-01])"
   ]
  },
  {
   "cell_type": "code",
   "execution_count": 11,
   "metadata": {},
   "outputs": [
    {
     "data": {
      "text/plain": [
       "'\\nfor vel, pro_gains_vel in enumerate(inputs): \\n    result_log = loss_cal(vel, pro_gains_vel, gain_space, true_theta) \\n'"
      ]
     },
     "execution_count": 11,
     "metadata": {},
     "output_type": "execute_result"
    }
   ],
   "source": [
    "inputs_vel = np.sort(np.append(gain_space, true_theta[4]))\n",
    "inputs_ang = np.sort(np.append(gain_space, true_theta[5]))\n",
    "#loss_log = torch.zeros([len(gain_space)+1, len(gain_space)+1])\n",
    "loss_results = Parallel(n_jobs=num_cores)(delayed(loss_cal)(vel, obs_gains_vel, gain_space, current_theta) for vel, obs_gains_vel in enumerate(inputs_vel))\n",
    "\n",
    "\"\"\"\n",
    "for vel, pro_gains_vel in enumerate(inputs): \n",
    "    result_log = loss_cal(vel, pro_gains_vel, gain_space, true_theta) \n",
    "\"\"\""
   ]
  },
  {
   "cell_type": "code",
   "execution_count": 12,
   "metadata": {},
   "outputs": [],
   "source": [
    "loss_log = []\n",
    "loss_act_log = []\n",
    "loss_obs_log =[]\n",
    "for i in range(len(loss_results)):\n",
    "    loss_log.append(loss_results[i]['loss_log'])\n",
    "    loss_act_log.append(loss_results[i]['loss_act_log'])\n",
    "    loss_obs_log.append(loss_results[i]['loss_obs_log'])"
   ]
  },
  {
   "cell_type": "code",
   "execution_count": 13,
   "metadata": {},
   "outputs": [],
   "source": [
    "loss_log_tot = torch.cat([loss_log[i] for i in range (len(loss_log))])\n",
    "loss_act_log_tot = torch.cat([loss_act_log[i] for i in range (len(loss_act_log))])\n",
    "loss_obs_log_tot = torch.cat([loss_obs_log[i] for i in range (len(loss_obs_log))])"
   ]
  },
  {
   "cell_type": "code",
   "execution_count": 14,
   "metadata": {
    "scrolled": true
   },
   "outputs": [
    {
     "data": {
      "text/plain": [
       "[tensor([4851059.0000, 5266520.0000, 4730100.0000, 5023021.0000, 4788930.5000,\n",
       "         4589397.0000, 4667094.5000, 3999773.2500, 3583769.7500, 3021008.0000]),\n",
       " tensor([5052081.5000, 4990220.5000, 4910261.5000, 4780095.0000, 4113430.7500,\n",
       "         4139381.2500, 3541672.2500, 3622634.5000, 3229323.0000, 2983550.2500]),\n",
       " tensor([4779737.5000, 4744393.0000, 4768200.5000, 4661279.0000, 3504931.5000,\n",
       "         3725715.0000, 3360596.7500, 3288213.0000, 2818938.2500, 2507548.0000]),\n",
       " tensor([5083984.0000, 4539299.0000, 4490211.0000, 3592053.7500, 3286777.0000,\n",
       "         3365627.7500, 3002665.2500, 2700857.5000, 2588247.5000, 2577685.2500]),\n",
       " tensor([4341349.5000, 4179677.7500, 3411805.7500, 2960582.0000, 2836768.5000,\n",
       "         3232615.7500, 2544999.5000, 2511862.2500, 2590280.2500, 2634421.7500]),\n",
       " tensor([3892693.5000, 3529906.7500, 3025195.0000, 2879586.2500, 2804916.0000,\n",
       "         2707178.2500, 2345980.7500, 2409970.5000, 2587900.0000, 2776679.0000]),\n",
       " tensor([3440233.2500, 3308930.7500, 2988028.7500, 2605582.7500, 2428157.2500,\n",
       "         2756940.2500, 2589709.5000, 2547114.7500, 2536559.7500, 2694239.5000]),\n",
       " tensor([3088297.7500, 2866176.2500, 2444333.2500, 2587155.0000, 2461336.7500,\n",
       "         2219291.7500, 2444328.5000, 2613587.5000, 2801410.7500, 3116363.5000]),\n",
       " tensor([2643316.2500, 2594196.7500, 2458621.0000, 2431754.5000, 2410586.2500,\n",
       "         2307471.5000, 2484918.0000, 2711046.2500, 3018275.0000, 3045909.7500]),\n",
       " tensor([2803267.0000, 2718633.2500, 2701478.0000, 2354273.2500, 2443812.7500,\n",
       "         2351078.7500, 2752622.5000, 2850692.0000, 2737671.7500, 3089011.7500])]"
      ]
     },
     "execution_count": 14,
     "metadata": {},
     "output_type": "execute_result"
    }
   ],
   "source": [
    "loss_log   "
   ]
  },
  {
   "cell_type": "code",
   "execution_count": 15,
   "metadata": {},
   "outputs": [
    {
     "data": {
      "text/plain": [
       "tensor([4851059.0000, 5266520.0000, 4730100.0000, 5023021.0000, 4788930.5000,\n",
       "        4589397.0000, 4667094.5000, 3999773.2500, 3583769.7500, 3021008.0000,\n",
       "        5052081.5000, 4990220.5000, 4910261.5000, 4780095.0000, 4113430.7500,\n",
       "        4139381.2500, 3541672.2500, 3622634.5000, 3229323.0000, 2983550.2500,\n",
       "        4779737.5000, 4744393.0000, 4768200.5000, 4661279.0000, 3504931.5000,\n",
       "        3725715.0000, 3360596.7500, 3288213.0000, 2818938.2500, 2507548.0000,\n",
       "        5083984.0000, 4539299.0000, 4490211.0000, 3592053.7500, 3286777.0000,\n",
       "        3365627.7500, 3002665.2500, 2700857.5000, 2588247.5000, 2577685.2500,\n",
       "        4341349.5000, 4179677.7500, 3411805.7500, 2960582.0000, 2836768.5000,\n",
       "        3232615.7500, 2544999.5000, 2511862.2500, 2590280.2500, 2634421.7500,\n",
       "        3892693.5000, 3529906.7500, 3025195.0000, 2879586.2500, 2804916.0000,\n",
       "        2707178.2500, 2345980.7500, 2409970.5000, 2587900.0000, 2776679.0000,\n",
       "        3440233.2500, 3308930.7500, 2988028.7500, 2605582.7500, 2428157.2500,\n",
       "        2756940.2500, 2589709.5000, 2547114.7500, 2536559.7500, 2694239.5000,\n",
       "        3088297.7500, 2866176.2500, 2444333.2500, 2587155.0000, 2461336.7500,\n",
       "        2219291.7500, 2444328.5000, 2613587.5000, 2801410.7500, 3116363.5000,\n",
       "        2643316.2500, 2594196.7500, 2458621.0000, 2431754.5000, 2410586.2500,\n",
       "        2307471.5000, 2484918.0000, 2711046.2500, 3018275.0000, 3045909.7500,\n",
       "        2803267.0000, 2718633.2500, 2701478.0000, 2354273.2500, 2443812.7500,\n",
       "        2351078.7500, 2752622.5000, 2850692.0000, 2737671.7500, 3089011.7500])"
      ]
     },
     "execution_count": 15,
     "metadata": {},
     "output_type": "execute_result"
    }
   ],
   "source": [
    "loss_log_tot"
   ]
  },
  {
   "cell_type": "code",
   "execution_count": 16,
   "metadata": {},
   "outputs": [
    {
     "data": {
      "text/plain": [
       "tensor(2219291.7500)"
      ]
     },
     "execution_count": 16,
     "metadata": {},
     "output_type": "execute_result"
    }
   ],
   "source": [
    "loss_log_tot.min()"
   ]
  },
  {
   "cell_type": "code",
   "execution_count": 17,
   "metadata": {},
   "outputs": [
    {
     "data": {
      "text/plain": [
       "tensor([11.4042,  8.6168,  0.2885,  0.9043, 12.0000, 10.0000,  1.7711,  0.1619,\n",
       "         0.2809])"
      ]
     },
     "execution_count": 17,
     "metadata": {},
     "output_type": "execute_result"
    }
   ],
   "source": [
    "true_theta"
   ]
  },
  {
   "cell_type": "code",
   "execution_count": 18,
   "metadata": {},
   "outputs": [],
   "source": [
    "dx, dy = 0.25, 0.25\n",
    "new_gain_space = np.append(gain_space, gain_space.max()+0.5)\n",
    "\n",
    "pinputs_vel = np.sort(np.append(new_gain_space, true_theta[4]))\n",
    "pinputs_ang = np.sort(np.append(new_gain_space, true_theta[5]))\n",
    "x,y = np.meshgrid( pinputs_ang-dy, pinputs_vel-dx)\n",
    "Z = loss_log_tot"
   ]
  },
  {
   "cell_type": "code",
   "execution_count": 19,
   "metadata": {},
   "outputs": [
    {
     "data": {
      "text/plain": [
       "<matplotlib.colorbar.Colorbar at 0x7fac2801ccd0>"
      ]
     },
     "execution_count": 19,
     "metadata": {},
     "output_type": "execute_result"
    },
    {
     "data": {
      "image/png": "[encoded data removed]",
      "text/plain": [
       "<Figure size 432x288 with 2 Axes>"
      ]
     },
     "metadata": {
      "needs_background": "light"
     },
     "output_type": "display_data"
    }
   ],
   "source": [
    "plt.contourf(inputs_ang, inputs_vel,Z.view(len(inputs_vel), len(inputs_ang)))  \n",
    "plt.xlabel('obs_ang')\n",
    "plt.ylabel('obs_forward')\n",
    "plt.title('true[forw,ang]:{}'.format(true_theta[4:6].data))\n",
    "plt.colorbar()"
   ]
  },
  {
   "cell_type": "code",
   "execution_count": 20,
   "metadata": {},
   "outputs": [
    {
     "data": {
      "text/plain": [
       "<matplotlib.colorbar.Colorbar at 0x7fac88c61590>"
      ]
     },
     "execution_count": 20,
     "metadata": {},
     "output_type": "execute_result"
    },
    {
     "data": {
      "image/png": "[encoded data removed]",
      "text/plain": [
       "<Figure size 432x288 with 2 Axes>"
      ]
     },
     "metadata": {
      "needs_background": "light"
     },
     "output_type": "display_data"
    }
   ],
   "source": [
    "plt.contourf(inputs_ang, inputs_vel,loss_act_log_tot.view(len(inputs_vel), len(inputs_ang)))  \n",
    "plt.xlabel('obs_ang')\n",
    "plt.ylabel('obs_forward')\n",
    "plt.title('ACT:true[forw,ang]:{}'.format(true_theta[4:6].data))\n",
    "plt.colorbar()"
   ]
  },
  {
   "cell_type": "code",
   "execution_count": 21,
   "metadata": {},
   "outputs": [
    {
     "data": {
      "text/plain": [
       "<matplotlib.colorbar.Colorbar at 0x7fac88c98bd0>"
      ]
     },
     "execution_count": 21,
     "metadata": {},
     "output_type": "execute_result"
    },
    {
     "data": {
      "image/png": "[encoded data removed]",
      "text/plain": [
       "<Figure size 432x288 with 2 Axes>"
      ]
     },
     "metadata": {
      "needs_background": "light"
     },
     "output_type": "display_data"
    }
   ],
   "source": [
    "plt.contourf(inputs_ang, inputs_vel,loss_obs_log_tot.view(len(inputs_vel), len(inputs_ang)))  \n",
    "plt.xlabel('obs_ang')\n",
    "plt.ylabel('obs_forward')\n",
    "plt.title('OBS:true[forw,ang]:{}'.format(true_theta[4:6].data))\n",
    "plt.colorbar()"
   ]
  },
  {
   "cell_type": "code",
   "execution_count": 22,
   "metadata": {},
   "outputs": [
    {
     "data": {
      "text/plain": [
       "array([ 8. ,  8.5,  9. ,  9.5, 10. , 10.5, 11. , 11.5, 12. , 12.5])"
      ]
     },
     "execution_count": 22,
     "metadata": {},
     "output_type": "execute_result"
    }
   ],
   "source": [
    "new_gain_space"
   ]
  },
  {
   "cell_type": "code",
   "execution_count": 23,
   "metadata": {
    "scrolled": true
   },
   "outputs": [
    {
     "data": {
      "text/plain": [
       "Text(0.5, 1.0, 'true[forw,ang]:tensor([12., 10.])')"
      ]
     },
     "execution_count": 23,
     "metadata": {},
     "output_type": "execute_result"
    },
    {
     "data": {
      "image/png": "[encoded data removed]",
      "text/plain": [
       "<Figure size 432x288 with 2 Axes>"
      ]
     },
     "metadata": {
      "needs_background": "light"
     },
     "output_type": "display_data"
    }
   ],
   "source": [
    "\n",
    "plt.pcolor(x, y, Z.view(len(inputs_vel), len(inputs_ang)), norm=colors.LogNorm(vmin=Z.min(), vmax=Z.max()))\n",
    "plt.colorbar()\n",
    "plt.xlabel('obs_ang')\n",
    "plt.ylabel('obs_forward')\n",
    "plt.title('true[forw,ang]:{}'.format(true_theta[4:6].data))\n"
   ]
  },
  {
   "cell_type": "code",
   "execution_count": 24,
   "metadata": {},
   "outputs": [
    {
     "data": {
      "text/plain": [
       "Text(0.5, 1.0, 'true[forw,ang]:tensor([12., 10.])')"
      ]
     },
     "execution_count": 24,
     "metadata": {},
     "output_type": "execute_result"
    },
    {
     "data": {
      "image/png": "[encoded data removed]",
      "text/plain": [
       "<Figure size 432x288 with 2 Axes>"
      ]
     },
     "metadata": {
      "needs_background": "light"
     },
     "output_type": "display_data"
    }
   ],
   "source": [
    "Z = loss_act_log_tot\n",
    "plt.pcolor(x, y, Z.view(len(inputs_vel), len(inputs_ang)), norm=colors.LogNorm(vmin=Z.min(), vmax=Z.max()))\n",
    "plt.colorbar()\n",
    "plt.xlabel('obs_ang')\n",
    "plt.ylabel('obs_forward')\n",
    "plt.title('true[forw,ang]:{}'.format(true_theta[4:6].data))"
   ]
  },
  {
   "cell_type": "code",
   "execution_count": 25,
   "metadata": {},
   "outputs": [
    {
     "data": {
      "text/plain": [
       "Text(0.5, 1.0, 'true[forw,ang]:tensor([12., 10.])')"
      ]
     },
     "execution_count": 25,
     "metadata": {},
     "output_type": "execute_result"
    },
    {
     "data": {
      "image/png": "[encoded data removed]",
      "text/plain": [
       "<Figure size 432x288 with 2 Axes>"
      ]
     },
     "metadata": {
      "needs_background": "light"
     },
     "output_type": "display_data"
    }
   ],
   "source": [
    "Z = loss_obs_log_tot\n",
    "plt.pcolor(x, y, Z.view(len(inputs_vel), len(inputs_ang)), norm=colors.LogNorm(vmin=Z.min(), vmax=Z.max()))\n",
    "plt.colorbar()\n",
    "plt.xlabel('obs_ang')\n",
    "plt.ylabel('obs_forward')\n",
    "plt.title('true[forw,ang]:{}'.format(true_theta[4:6].data))"
   ]
  },
  {
   "cell_type": "code",
   "execution_count": 26,
   "metadata": {},
   "outputs": [],
   "source": [
    "torch.save(loss_log, '../firefly-inverse-data/data/'+filename+'loss_obs_plotter.pkl')"
   ]
  }
 ],
 "metadata": {
  "@webio": {
   "lastCommId": null,
   "lastKernelId": null
  },
  "kernelspec": {
   "display_name": "Python 3",
   "language": "python",
   "name": "python3"
  },
  "language_info": {
   "codemirror_mode": {
    "name": "ipython",
    "version": 3
   },
   "file_extension": ".py",
   "mimetype": "text/x-python",
   "name": "python",
   "nbconvert_exporter": "python",
   "pygments_lexer": "ipython3",
   "version": "3.7.4"
  }
 },
 "nbformat": 4,
 "nbformat_minor": 2
}
