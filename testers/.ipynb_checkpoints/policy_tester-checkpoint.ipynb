{
 "cells": [
  {
   "cell_type": "code",
   "execution_count": null,
   "metadata": {},
   "outputs": [],
   "source": [
    "from DDPGv2Agent import Agent, Noise\n",
    "from collections import deque\n",
    "rewards = deque(maxlen=100)\n",
    "\n",
    "# read configuration parameters\n",
    "from Config import Config\n",
    "arg = Config()\n",
    "# fix random seed\n",
    "import random\n",
    "random.seed(arg.SEED_NUMBER)\n",
    "import torch\n",
    "torch.manual_seed(arg.SEED_NUMBER)\n",
    "if torch.cuda.is_available():\n",
    "    torch.cuda.manual_seed(arg.SEED_NUMBER)\n",
    "import numpy as np\n",
    "np.random.seed(arg.SEED_NUMBER)\n",
    "import time\n",
    "\n",
    "torch.backends.cudnn.deterministic = True\n",
    "torch.backends.cudnn.benchmark = False\n",
    "\n",
    "import datetime\n",
    "import pandas as pd\n",
    "\n",
    "filename = '20191016-205855' # agent information\n",
    "df = pd.read_csv('../firefly-inverse-data/data/' + filename + '_log.csv',\n",
    "                 usecols=['discount_factor','process gain forward', 'process gain angular', 'process noise std forward',\n",
    "                          'process noise std angular', 'obs gain forward', 'obs gain angular', 'obs noise std forward',\n",
    "                          'obs noise std angular', 'goal radius'])\n",
    "\n",
    "DISCOUNT_FACTOR = df['discount_factor'][0]\n",
    "gains_range = [np.floor(df['process gain forward'].min()), np.ceil(df['process gain forward'].max()),\n",
    "               np.floor(df['process gain angular'].min()), np.ceil(df['process gain angular'].max())]\n",
    "\n",
    "std_range = [df['process noise std forward'].min(), df['process noise std forward'].max(),\n",
    "               df['process noise std angular'].min(), df['process noise std angular'].max()]\n",
    "goal_radius_range = [df['goal radius'].min(), df['goal radius'].max()]\n",
    "\n",
    "\n",
    "env = Model(arg) # build an environment\n",
    "x, pro_gains, pro_noise_stds, goal_radius = env.reset(arg.gains_range, arg.std_range, arg.goal_radius_range)\n",
    "\n",
    "state_dim = env.state_dim\n",
    "action_dim = env.action_dim\n",
    "\n",
    "MAX_EPISODE = 100\n",
    "std = 0.00001 #0.05\n",
    "noise = Noise(action_dim, mean=0., std=std)\n",
    "\n",
    "agent = Agent(state_dim, action_dim, arg,  filename, hidden_dim=128, gamma=arg.DISCOUNT_FACTOR, tau=0.001)\n",
    "agent.load(filename)\n",
    "\n",
    "tot_t = 0.\n",
    "episode = 0.\n",
    "\n",
    "b, state, obs_gains, obs_noise_stds = agent.Bstep.reset(x, torch.zeros(1), pro_gains, pro_noise_stds, \n",
    "                                                        goal_radius, arg.gains_range, arg.std_range)  # reset monkey's internal model\n",
    "\n"
   ]
  },
  {
   "cell_type": "code",
   "execution_count": null,
   "metadata": {},
   "outputs": [],
   "source": [
    "t = torch.zeros(1) # to track the amount of time steps to catch a firefly\n",
    "\n",
    "theta = (pro_gains, pro_noise_stds, obs_gains, obs_noise_stds, goal_radius)"
   ]
  },
  {
   "cell_type": "code",
   "execution_count": null,
   "metadata": {},
   "outputs": [],
   "source": [
    "action = agent.select_action(state, action_noise = noise, param = None)  # with action noise\n"
   ]
  },
  {
   "cell_type": "code",
   "execution_count": null,
   "metadata": {},
   "outputs": [],
   "source": [
    "\n",
    "next_x, reached_target = env(x, action.view(-1)) #track true next_x of monkey\n",
    "next_ox = agent.Bstep.observations(next_x)  # observation\n",
    "next_b, info = agent.Bstep(b, next_ox, action, env.box) # belief next state, info['stop']=terminal # reward only depends on belief\n",
    "next_state = agent.Bstep.Breshape(next_b, t, theta) # state used in policy is different from belief"
   ]
  }
 ],
 "metadata": {
  "kernelspec": {
   "display_name": "Python 3",
   "language": "python",
   "name": "python3"
  },
  "language_info": {
   "codemirror_mode": {
    "name": "ipython",
    "version": 3
   },
   "file_extension": ".py",
   "mimetype": "text/x-python",
   "name": "python",
   "nbconvert_exporter": "python",
   "pygments_lexer": "ipython3",
   "version": "3.7.4"
  }
 },
 "nbformat": 4,
 "nbformat_minor": 2
}
