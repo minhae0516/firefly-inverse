{
 "cells": [
  {
   "cell_type": "code",
   "execution_count": 1,
   "metadata": {},
   "outputs": [
    {
     "name": "stdout",
     "output_type": "stream",
     "text": [
      "12 cores are available\n",
      "Running DDPG Agent: using  cpu\n"
     ]
    }
   ],
   "source": [
    "import torch\n",
    "import torch.nn as nn\n",
    "from torch.autograd import grad\n",
    "import pandas as pd\n",
    "from InverseFuncs import trajectory, getLoss, reset_theta, theta_range\n",
    "\n",
    "from DDPGv2Agent import Agent\n",
    "from FireflyEnv import Model # firefly_task.py\n",
    "from collections import deque\n",
    "from Inverse_Config import Inverse_Config\n",
    "import matplotlib.pyplot as plt\n",
    "import matplotlib.colors as colors\n",
    "\n",
    "# read configuration parameters\n",
    "arg = Inverse_Config()\n",
    "\n",
    "# fix random seed\n",
    "import random\n",
    "random.seed(arg.SEED_NUMBER)\n",
    "import torch\n",
    "torch.manual_seed(arg.SEED_NUMBER)\n",
    "if torch.cuda.is_available():\n",
    "    torch.cuda.manual_seed(arg.SEED_NUMBER)\n",
    "import numpy as np\n",
    "np.random.seed(arg.SEED_NUMBER)\n",
    "import time\n",
    "\n",
    "torch.backends.cudnn.deterministic = True\n",
    "torch.backends.cudnn.benchmark = False\n",
    "\n",
    "\n",
    "import multiprocessing\n",
    "from joblib import Parallel, delayed\n",
    "from tqdm import tqdm\n",
    "\n",
    "num_cores = multiprocessing.cpu_count()\n",
    "print(\"{} cores are available\".format(num_cores))\n",
    "\n",
    "# if gpu is to be used\n",
    "#CUDA = False\n",
    "#device = \"cpu\"\n",
    "\n",
    "CUDA = torch.cuda.is_available()\n",
    "device = torch.device(\"cuda\" if torch.cuda.is_available() else \"cpu\")\n",
    "\n",
    "tic = time.time()\n",
    "\n",
    "\n",
    "\n",
    "filename = '20191231-172726-01081157' # agent information\n",
    "\n",
    "learning_arg = torch.load('../firefly-inverse-data/data/20191231-172726_arg.pkl')\n",
    "\n",
    "DISCOUNT_FACTOR = learning_arg.DISCOUNT_FACTOR\n",
    "arg.gains_range = learning_arg.gains_range\n",
    "arg.std_range = learning_arg.std_range\n",
    "arg.goal_radius_range = learning_arg.goal_radius_range\n",
    "arg.WORLD_SIZE = learning_arg.WORLD_SIZE\n",
    "arg.DELTA_T = learning_arg.DELTA_T\n",
    "arg.EPISODE_TIME = learning_arg.EPISODE_TIME\n",
    "arg.EPISODE_LEN = learning_arg.EPISODE_LEN\n",
    "arg.PI_STD = 0.1\n",
    "arg.NUM_EP = 200\n",
    "arg.NUM_SAMPLES = 5\n",
    "\n",
    "\n",
    "env = Model(arg) # build an environment\n",
    "env.max_goal_radius = arg.goal_radius_range[1] # use the largest world size for goal radius\n",
    "env.box = arg.WORLD_SIZE\n",
    "agent = Agent(env.state_dim, env.action_dim, arg,  filename, hidden_dim=128, gamma=DISCOUNT_FACTOR, tau=0.001) #, device = \"cpu\")\n",
    "agent.load(filename)\n"
   ]
  },
  {
   "cell_type": "code",
   "execution_count": 2,
   "metadata": {},
   "outputs": [
    {
     "data": {
      "text/plain": [
       "0.1"
      ]
     },
     "execution_count": 2,
     "metadata": {},
     "output_type": "execute_result"
    }
   ],
   "source": [
    "arg.PI_STD"
   ]
  },
  {
   "cell_type": "code",
   "execution_count": 3,
   "metadata": {},
   "outputs": [],
   "source": [
    "def loss_cal(vel, pro_gains_vel, gain_space, true_theta):\n",
    "    \n",
    "    loss_log = torch.zeros(len(gain_space)+1)\n",
    "    pro_gains = torch.zeros(2)\n",
    "    pro_noise_stds = torch.zeros(2)\n",
    "    obs_gains = torch.zeros(2)\n",
    "    obs_noise_stds = torch.zeros(2)\n",
    "    goal_radius = torch.zeros(1)\n",
    "    \n",
    "    theta_log = []\n",
    "    inputs_ang = np.sort(np.append(gain_space, true_theta[1]))\n",
    "\n",
    "    pro_gains[0] = pro_gains_vel\n",
    "    for ang, pro_gains_ang in enumerate(tqdm(inputs_ang)):\n",
    "        pro_gains[1] = pro_gains_ang\n",
    "        for obs_gains_vel  in [true_theta[4]]:#np.append(gain_space, true_theta[4]):\n",
    "            obs_gains[0] = obs_gains_vel\n",
    "            for obs_gains_ang in [true_theta[5]]:#np.append(gain_space, true_theta[5]):\n",
    "                obs_gains[1] = obs_gains_ang\n",
    "                for pro_std_vel in [true_theta[2]]:#np.append(std_space, true_theta[2]):\n",
    "                    pro_noise_stds[0] = pro_std_vel\n",
    "                    for pro_std_ang in [true_theta[3]]:#np.append(std_space, true_theta[3]):\n",
    "                        pro_noise_stds[1] = pro_std_ang\n",
    "                        for obs_std_vel in [true_theta[6]]:#np.append(std_space, true_theta[6]):\n",
    "                            obs_noise_stds[0] = obs_std_vel \n",
    "                            for obs_std_ang in [true_theta[7]]:#np.append(std_space, true_theta[7]):\n",
    "                                obs_noise_stds[1] = obs_std_ang\n",
    "                                for goal_r in [true_theta[8]]: #np.append(goal_radius_space, true_theta[8]):\n",
    "                                    goal_radius[0] = goal_r\n",
    "                                    \n",
    "                                    \n",
    "                                    theta = torch.cat([pro_gains, pro_noise_stds, obs_gains, obs_noise_stds, goal_radius])\n",
    "    \n",
    "    \n",
    "                                    theta_log.append(theta.data)\n",
    "                                    loss = getLoss(agent, x_traj, a_traj, theta, env, arg.gains_range, arg.std_range, arg.PI_STD, arg.NUM_SAMPLES)\n",
    "                                    loss_log[ang] = loss.data\n",
    "                                    #loss_log.append(loss.data)\n",
    "\n",
    "                                    print(\"num:{}, theta:{}, loss:{}\".format(vel, theta, loss))\n",
    "                        \n",
    "                        \n",
    "    \"\"\"\n",
    "    result = {'true_theta': true_theta,\n",
    "         'true_loss': true_loss,\n",
    "         'theta_log': theta_log,\n",
    "         'loss_log': loss_log}\n",
    "    \"\"\"\n",
    "    return loss_log\n"
   ]
  },
  {
   "cell_type": "code",
   "execution_count": 4,
   "metadata": {
    "scrolled": true
   },
   "outputs": [
    {
     "name": "stdout",
     "output_type": "stream",
     "text": [
      "true loss:45588.859375\n",
      "true_theta:tensor([11.4042,  8.6168,  0.2885,  0.9043, 11.1173,  8.1504,  1.7711,  0.1619,\n",
      "         0.2809])\n"
     ]
    }
   ],
   "source": [
    "# true theta\n",
    "#true_theta = reset_theta(arg.gains_range, arg.std_range, arg.goal_radius_range)\n",
    "#true_theta[0]=11.5\n",
    "#true_theta[1]=11.5\n",
    "true_theta=torch.tensor([11.4042,  8.6168,  0.2885,  0.9043, 11.1173,  8.1504,  1.7711,  0.1619,0.2809])\n",
    "\n",
    "\n",
    "x_traj, obs_traj, a_traj, _ = trajectory(agent, true_theta, env, arg, arg.gains_range, arg.std_range,arg.goal_radius_range, arg.NUM_EP)  # generate true trajectory\n",
    "true_loss = getLoss(agent, x_traj, a_traj, true_theta, env, arg.gains_range, arg.std_range, arg.PI_STD, arg.NUM_SAMPLES)  # this is the lower bound of loss?\n",
    "print(\"true loss:{}\".format(true_loss))\n",
    "print(\"true_theta:{}\".format(true_theta))\n",
    "\n",
    "current_theta = true_theta"
   ]
  },
  {
   "cell_type": "code",
   "execution_count": 5,
   "metadata": {},
   "outputs": [],
   "source": [
    "current_theta=torch.tensor([1.1317e+01, 9.4682e+00, 1.0000e-02, 2.5650e-02, 8.4879e+00, 1.1435e+01,\n",
    "        1.7711,  0.1619, 2.7555e-01])"
   ]
  },
  {
   "cell_type": "code",
   "execution_count": 6,
   "metadata": {},
   "outputs": [],
   "source": [
    "gain_space = np.linspace(arg.gains_range[0],arg.gains_range[1], num = 9)\n",
    "std_space = np.linspace(arg.std_range[0], arg.std_range[1], num = 3)\n",
    "goal_radius_space = np.linspace(arg.goal_radius_range[0], arg.goal_radius_range[1], num =3)"
   ]
  },
  {
   "cell_type": "code",
   "execution_count": 7,
   "metadata": {},
   "outputs": [
    {
     "data": {
      "text/plain": [
       "array([ 8. ,  8.5,  9. ,  9.5, 10. , 10.5, 11. , 11.5, 12. ])"
      ]
     },
     "execution_count": 7,
     "metadata": {},
     "output_type": "execute_result"
    }
   ],
   "source": [
    "gain_space"
   ]
  },
  {
   "cell_type": "code",
   "execution_count": 8,
   "metadata": {},
   "outputs": [
    {
     "data": {
      "text/plain": [
       "tensor([11.4042,  8.6168,  0.2885,  0.9043, 11.1173,  8.1504,  1.7711,  0.1619,\n",
       "         0.2809])"
      ]
     },
     "execution_count": 8,
     "metadata": {},
     "output_type": "execute_result"
    }
   ],
   "source": [
    "true_theta\n"
   ]
  },
  {
   "cell_type": "code",
   "execution_count": 9,
   "metadata": {},
   "outputs": [],
   "source": [
    "inputs_vel = np.sort(np.append(gain_space, true_theta[0]))\n",
    "inputs_ang = np.sort(np.append(gain_space, true_theta[1]))\n",
    "\n",
    "#loss_log = torch.zeros([len(gain_space)+1, len(gain_space)+1])\n",
    "loss_log = Parallel(n_jobs=num_cores)(delayed(loss_cal)(vel, pro_gains_vel, gain_space, current_theta) for vel, pro_gains_vel in enumerate(inputs_vel))\n"
   ]
  },
  {
   "cell_type": "code",
   "execution_count": 10,
   "metadata": {},
   "outputs": [
    {
     "data": {
      "text/plain": [
       "[tensor([99227.5703, 97728.1562, 96961.0781, 97112.0078, 97006.9688, 97301.0000,\n",
       "         97270.1250, 99462.7344, 99176.2031, 99892.3750]),\n",
       " tensor([91748.9062, 91350.2500, 89835.4375, 91127.4375, 91191.3125, 91402.4688,\n",
       "         91836.7109, 91700.8047, 93784.1484, 94358.1797]),\n",
       " tensor([78879.4453, 80440.0625, 81317.3984, 82747.2109, 82844.7422, 80436.2891,\n",
       "         82724.9141, 83730.5781, 84596.7812, 85337.3516]),\n",
       " tensor([70401.3672, 71507.0312, 69044.8906, 68991.3203, 68976.7891, 71233.1875,\n",
       "         72539.4844, 72491.0859, 76060.0312, 78389.8359]),\n",
       " tensor([58536.1758, 58843.3711, 57003.0508, 57935.0195, 58144.2148, 60761.9805,\n",
       "         64553.7695, 68472.4609, 71296.4922, 73520.8906]),\n",
       " tensor([45323.3203, 48284.6758, 52346.4453, 51894.1523, 52273.8359, 55437.2266,\n",
       "         57505.7070, 61823.1680, 64306.9648, 69056.2578]),\n",
       " tensor([39878.8945, 43411.6719, 45014.4336, 46878.6094, 46983.8438, 50870.8047,\n",
       "         54391.2773, 59124.0703, 62066.8594, 68187.7109]),\n",
       " tensor([39143.5430, 41322.6328, 46450.3242, 46804.7852, 47041.4453, 49863.1797,\n",
       "         53797.5352, 57825.9805, 62103.5156, 65712.0312]),\n",
       " tensor([39496.5586, 41311.2383, 46039.8750, 47254.3828, 47224.8906, 50182.8164,\n",
       "         53770.9414, 56654.9023, 61890.6133, 65918.3750]),\n",
       " tensor([45236.6250, 46865.6992, 49106.0547, 50542.0859, 50418.0312, 53714.9180,\n",
       "         56074.9922, 57083.9844, 61367.8555, 67332.8047])]"
      ]
     },
     "execution_count": 10,
     "metadata": {},
     "output_type": "execute_result"
    }
   ],
   "source": [
    "loss_log\n",
    "    "
   ]
  },
  {
   "cell_type": "code",
   "execution_count": 11,
   "metadata": {},
   "outputs": [],
   "source": [
    "loss_log_tot = torch.cat([loss_log[i] for i in range (len(loss_log))])"
   ]
  },
  {
   "cell_type": "code",
   "execution_count": 12,
   "metadata": {
    "scrolled": true
   },
   "outputs": [
    {
     "data": {
      "text/plain": [
       "tensor([99227.5703, 97728.1562, 96961.0781, 97112.0078, 97006.9688, 97301.0000,\n",
       "        97270.1250, 99462.7344, 99176.2031, 99892.3750, 91748.9062, 91350.2500,\n",
       "        89835.4375, 91127.4375, 91191.3125, 91402.4688, 91836.7109, 91700.8047,\n",
       "        93784.1484, 94358.1797, 78879.4453, 80440.0625, 81317.3984, 82747.2109,\n",
       "        82844.7422, 80436.2891, 82724.9141, 83730.5781, 84596.7812, 85337.3516,\n",
       "        70401.3672, 71507.0312, 69044.8906, 68991.3203, 68976.7891, 71233.1875,\n",
       "        72539.4844, 72491.0859, 76060.0312, 78389.8359, 58536.1758, 58843.3711,\n",
       "        57003.0508, 57935.0195, 58144.2148, 60761.9805, 64553.7695, 68472.4609,\n",
       "        71296.4922, 73520.8906, 45323.3203, 48284.6758, 52346.4453, 51894.1523,\n",
       "        52273.8359, 55437.2266, 57505.7070, 61823.1680, 64306.9648, 69056.2578,\n",
       "        39878.8945, 43411.6719, 45014.4336, 46878.6094, 46983.8438, 50870.8047,\n",
       "        54391.2773, 59124.0703, 62066.8594, 68187.7109, 39143.5430, 41322.6328,\n",
       "        46450.3242, 46804.7852, 47041.4453, 49863.1797, 53797.5352, 57825.9805,\n",
       "        62103.5156, 65712.0312, 39496.5586, 41311.2383, 46039.8750, 47254.3828,\n",
       "        47224.8906, 50182.8164, 53770.9414, 56654.9023, 61890.6133, 65918.3750,\n",
       "        45236.6250, 46865.6992, 49106.0547, 50542.0859, 50418.0312, 53714.9180,\n",
       "        56074.9922, 57083.9844, 61367.8555, 67332.8047])"
      ]
     },
     "execution_count": 12,
     "metadata": {},
     "output_type": "execute_result"
    }
   ],
   "source": [
    "loss_log_tot"
   ]
  },
  {
   "cell_type": "code",
   "execution_count": 13,
   "metadata": {},
   "outputs": [
    {
     "data": {
      "text/plain": [
       "tensor([11.4042,  8.6168,  0.2885,  0.9043, 11.1173,  8.1504,  1.7711,  0.1619,\n",
       "         0.2809])"
      ]
     },
     "execution_count": 13,
     "metadata": {},
     "output_type": "execute_result"
    }
   ],
   "source": [
    "true_theta"
   ]
  },
  {
   "cell_type": "code",
   "execution_count": 14,
   "metadata": {},
   "outputs": [],
   "source": [
    "dx, dy = 0.25, 0.25\n",
    "new_gain_space = np.append(gain_space, gain_space.max()+0.5)\n",
    "\n",
    "pinputs_vel = np.sort(np.append(new_gain_space, true_theta[0]))\n",
    "pinputs_ang = np.sort(np.append(new_gain_space, true_theta[1]))\n",
    "x,y = np.meshgrid( pinputs_ang-dy, pinputs_vel-dx)\n",
    "Z = loss_log_tot"
   ]
  },
  {
   "cell_type": "code",
   "execution_count": 15,
   "metadata": {},
   "outputs": [
    {
     "data": {
      "text/plain": [
       "<matplotlib.colorbar.Colorbar at 0x7fe5f030a650>"
      ]
     },
     "execution_count": 15,
     "metadata": {},
     "output_type": "execute_result"
    },
    {
     "data": {
      "image/png": "[encoded data removed]",
      "text/plain": [
       "<Figure size 432x288 with 2 Axes>"
      ]
     },
     "metadata": {
      "needs_background": "light"
     },
     "output_type": "display_data"
    }
   ],
   "source": [
    "plt.contourf(inputs_ang, inputs_vel,Z.view(len(inputs_vel), len(inputs_ang)))  \n",
    "plt.xlabel('process_ang')\n",
    "plt.ylabel('process_forward')\n",
    "plt.title('true[forw,ang]:{}'.format(true_theta[:2].data))\n",
    "plt.colorbar()"
   ]
  },
  {
   "cell_type": "code",
   "execution_count": 16,
   "metadata": {
    "scrolled": true
   },
   "outputs": [
    {
     "data": {
      "text/plain": [
       "Text(0.5, 1.0, 'true[forw,ang]:tensor([11.4042,  8.6168])')"
      ]
     },
     "execution_count": 16,
     "metadata": {},
     "output_type": "execute_result"
    },
    {
     "data": {
      "image/png": "[encoded data removed]",
      "text/plain": [
       "<Figure size 432x288 with 2 Axes>"
      ]
     },
     "metadata": {
      "needs_background": "light"
     },
     "output_type": "display_data"
    }
   ],
   "source": [
    "\n",
    "plt.pcolor(x, y, Z.view(len(inputs_vel), len(inputs_ang)), norm=colors.LogNorm(vmin=Z.min(), vmax=Z.max()))\n",
    "plt.colorbar()\n",
    "plt.xlabel('process_ang')\n",
    "plt.ylabel('process_forward')\n",
    "plt.title('true[forw,ang]:{}'.format(true_theta[:2].data))"
   ]
  },
  {
   "cell_type": "code",
   "execution_count": 17,
   "metadata": {},
   "outputs": [],
   "source": [
    "torch.save(loss_log, '../firefly-inverse-data/data/'+filename+'loss_plotter.pkl')"
   ]
  }
 ],
 "metadata": {
  "@webio": {
   "lastCommId": null,
   "lastKernelId": null
  },
  "kernelspec": {
   "display_name": "Python 3",
   "language": "python",
   "name": "python3"
  },
  "language_info": {
   "codemirror_mode": {
    "name": "ipython",
    "version": 3
   },
   "file_extension": ".py",
   "mimetype": "text/x-python",
   "name": "python",
   "nbconvert_exporter": "python",
   "pygments_lexer": "ipython3",
   "version": "3.7.4"
  }
 },
 "nbformat": 4,
 "nbformat_minor": 2
}
