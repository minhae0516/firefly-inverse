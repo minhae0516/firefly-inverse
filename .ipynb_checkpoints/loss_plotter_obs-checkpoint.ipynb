{
 "cells": [
  {
   "cell_type": "code",
   "execution_count": 17,
   "metadata": {},
   "outputs": [
    {
     "name": "stdout",
     "output_type": "stream",
     "text": [
      "12 cores are available\n",
      "Running DDPG Agent: using  cpu\n"
     ]
    }
   ],
   "source": [
    "import torch\n",
    "import torch.nn as nn\n",
    "from torch.autograd import grad\n",
    "import pandas as pd\n",
    "from InverseFuncs import trajectory, getLoss, reset_theta, theta_range\n",
    "\n",
    "from DDPGv2Agent import Agent\n",
    "from FireflyEnv import Model # firefly_task.py\n",
    "from collections import deque\n",
    "from Inverse_Config import Inverse_Config\n",
    "import matplotlib.pyplot as plt\n",
    "import matplotlib.colors as colors\n",
    "\n",
    "# read configuration parameters\n",
    "arg = Inverse_Config()\n",
    "\n",
    "# fix random seed\n",
    "import random\n",
    "random.seed(arg.SEED_NUMBER)\n",
    "import torch\n",
    "torch.manual_seed(arg.SEED_NUMBER)\n",
    "if torch.cuda.is_available():\n",
    "    torch.cuda.manual_seed(arg.SEED_NUMBER)\n",
    "import numpy as np\n",
    "np.random.seed(arg.SEED_NUMBER)\n",
    "import time\n",
    "\n",
    "torch.backends.cudnn.deterministic = True\n",
    "torch.backends.cudnn.benchmark = False\n",
    "\n",
    "\n",
    "import multiprocessing\n",
    "from joblib import Parallel, delayed\n",
    "from tqdm import tqdm\n",
    "\n",
    "num_cores = multiprocessing.cpu_count()\n",
    "print(\"{} cores are available\".format(num_cores))\n",
    "\n",
    "# if gpu is to be used\n",
    "#CUDA = False\n",
    "#device = \"cpu\"\n",
    "\n",
    "CUDA = torch.cuda.is_available()\n",
    "device = torch.device(\"cuda\" if torch.cuda.is_available() else \"cpu\")\n",
    "\n",
    "tic = time.time()\n",
    "\n",
    "\n",
    "\n",
    "filename = '20191231-172726-01081157' # agent information\n",
    "\n",
    "learning_arg = torch.load('../firefly-inverse-data/data/20191231-172726_arg.pkl')\n",
    "\n",
    "DISCOUNT_FACTOR = learning_arg.DISCOUNT_FACTOR\n",
    "arg.gains_range = learning_arg.gains_range\n",
    "arg.std_range = learning_arg.std_range\n",
    "arg.goal_radius_range = learning_arg.goal_radius_range\n",
    "arg.WORLD_SIZE = learning_arg.WORLD_SIZE\n",
    "arg.DELTA_T = learning_arg.DELTA_T\n",
    "arg.EPISODE_TIME = learning_arg.EPISODE_TIME\n",
    "arg.EPISODE_LEN = learning_arg.EPISODE_LEN\n",
    "arg.PI_STD = 0.05\n",
    "arg.NUM_EP = 500\n",
    "arg.NUM_SAMPLES = 10\n",
    "\n",
    "\n",
    "env = Model(arg) # build an environment\n",
    "env.max_goal_radius = arg.goal_radius_range[1] # use the largest world size for goal radius\n",
    "env.box = arg.WORLD_SIZE\n",
    "agent = Agent(env.state_dim, env.action_dim, arg,  filename, hidden_dim=128, gamma=DISCOUNT_FACTOR, tau=0.001) #, device = \"cpu\")\n",
    "agent.load(filename)\n"
   ]
  },
  {
   "cell_type": "code",
   "execution_count": 18,
   "metadata": {},
   "outputs": [
    {
     "data": {
      "text/plain": [
       "0.05"
      ]
     },
     "execution_count": 18,
     "metadata": {},
     "output_type": "execute_result"
    }
   ],
   "source": [
    "arg.PI_STD"
   ]
  },
  {
   "cell_type": "code",
   "execution_count": 19,
   "metadata": {},
   "outputs": [
    {
     "data": {
      "text/plain": [
       "500"
      ]
     },
     "execution_count": 19,
     "metadata": {},
     "output_type": "execute_result"
    }
   ],
   "source": [
    "arg.NUM_EP"
   ]
  },
  {
   "cell_type": "code",
   "execution_count": 20,
   "metadata": {},
   "outputs": [],
   "source": [
    "def loss_cal(vel, obs_gains_vel, gain_space, true_theta):\n",
    "    \n",
    "    loss_log = torch.zeros(len(gain_space)+1)\n",
    "    pro_gains = torch.zeros(2)\n",
    "    pro_noise_stds = torch.zeros(2)\n",
    "    obs_gains = torch.zeros(2)\n",
    "    obs_noise_stds = torch.zeros(2)\n",
    "    goal_radius = torch.zeros(1)\n",
    "    \n",
    "    theta_log = []\n",
    "    inputs_ang = np.sort(np.append(gain_space, true_theta[5]))\n",
    "\n",
    "    obs_gains[0] = obs_gains_vel\n",
    "    for ang, obs_gains_ang in enumerate(tqdm(inputs_ang)):\n",
    "        obs_gains[1] = obs_gains_ang\n",
    "        for pro_gains_vel  in [true_theta[0]]:#np.append(gain_space, true_theta[4]):\n",
    "            pro_gains[0] = pro_gains_vel\n",
    "            for pro_gains_ang in [true_theta[1]]:#np.append(gain_space, true_theta[5]):\n",
    "                pro_gains[1] = pro_gains_ang\n",
    "                for pro_std_vel in [true_theta[2]]:#np.append(std_space, true_theta[2]):\n",
    "                    pro_noise_stds[0] = pro_std_vel\n",
    "                    for pro_std_ang in [true_theta[3]]:#np.append(std_space, true_theta[3]):\n",
    "                        pro_noise_stds[1] = pro_std_ang\n",
    "                        for obs_std_vel in [true_theta[6]]:#np.append(std_space, true_theta[6]):\n",
    "                            obs_noise_stds[0] = obs_std_vel \n",
    "                            for obs_std_ang in [true_theta[7]]:#np.append(std_space, true_theta[7]):\n",
    "                                obs_noise_stds[1] = obs_std_ang\n",
    "                                for goal_r in [true_theta[8]]: #np.append(goal_radius_space, true_theta[8]):\n",
    "                                    goal_radius[0] = goal_r\n",
    "                                    \n",
    "                                    \n",
    "                                    theta = torch.cat([pro_gains, pro_noise_stds, obs_gains, obs_noise_stds, goal_radius])\n",
    "    \n",
    "    \n",
    "                                    theta_log.append(theta.data)\n",
    "                                    loss = getLoss(agent, x_traj, a_traj, theta, env, arg.gains_range, arg.std_range, arg.PI_STD, arg.NUM_SAMPLES)\n",
    "                                    loss_log[ang] = loss.data\n",
    "                                    #loss_log.append(loss.data)\n",
    "\n",
    "                                    print(\"num:{}, theta:{}, loss:{}\".format(vel, theta, loss))\n",
    "                        \n",
    "                        \n",
    "    \"\"\"\n",
    "    result = {'true_theta': true_theta,\n",
    "         'true_loss': true_loss,\n",
    "         'theta_log': theta_log,\n",
    "         'loss_log': loss_log}\n",
    "    \"\"\"\n",
    "    return loss_log\n"
   ]
  },
  {
   "cell_type": "code",
   "execution_count": 21,
   "metadata": {},
   "outputs": [
    {
     "name": "stdout",
     "output_type": "stream",
     "text": [
      "true loss:181875.265625\n",
      "true_theta:tensor([11.4042,  8.6168,  0.2885,  0.9043,  8.5000, 10.5000,  1.7711,  0.1619,\n",
      "         0.2809])\n"
     ]
    }
   ],
   "source": [
    "# true theta\n",
    "true_theta = reset_theta(arg.gains_range, arg.std_range, arg.goal_radius_range)\n",
    "true_theta[4]=8.5\n",
    "true_theta[5]=10.5\n",
    "\n",
    "x_traj, obs_traj, a_traj, _ = trajectory(agent, true_theta, env, arg, arg.gains_range, arg.std_range,arg.goal_radius_range, arg.NUM_EP)  # generate true trajectory\n",
    "true_loss = getLoss(agent, x_traj, a_traj, true_theta, env, arg.gains_range, arg.std_range, arg.PI_STD, arg.NUM_SAMPLES)  # this is the lower bound of loss?\n",
    "print(\"true loss:{}\".format(true_loss))\n",
    "print(\"true_theta:{}\".format(true_theta))\n",
    "\n"
   ]
  },
  {
   "cell_type": "code",
   "execution_count": 22,
   "metadata": {},
   "outputs": [],
   "source": [
    "gain_space = np.linspace(arg.gains_range[0],arg.gains_range[1], num = 9)\n",
    "std_space = np.linspace(arg.std_range[0], arg.std_range[1], num = 3)\n",
    "goal_radius_space = np.linspace(arg.goal_radius_range[0], arg.goal_radius_range[1], num =3)"
   ]
  },
  {
   "cell_type": "code",
   "execution_count": 23,
   "metadata": {},
   "outputs": [
    {
     "data": {
      "text/plain": [
       "array([ 8. ,  8.5,  9. ,  9.5, 10. , 10.5, 11. , 11.5, 12. ])"
      ]
     },
     "execution_count": 23,
     "metadata": {},
     "output_type": "execute_result"
    }
   ],
   "source": [
    "gain_space"
   ]
  },
  {
   "cell_type": "code",
   "execution_count": 24,
   "metadata": {},
   "outputs": [
    {
     "data": {
      "text/plain": [
       "tensor([11.4042,  8.6168,  0.2885,  0.9043,  8.5000, 10.5000,  1.7711,  0.1619,\n",
       "         0.2809])"
      ]
     },
     "execution_count": 24,
     "metadata": {},
     "output_type": "execute_result"
    }
   ],
   "source": [
    "true_theta\n"
   ]
  },
  {
   "cell_type": "code",
   "execution_count": 25,
   "metadata": {},
   "outputs": [
    {
     "data": {
      "text/plain": [
       "'\\nfor vel, pro_gains_vel in enumerate(inputs): \\n    result_log = loss_cal(vel, pro_gains_vel, gain_space, true_theta) \\n'"
      ]
     },
     "execution_count": 25,
     "metadata": {},
     "output_type": "execute_result"
    }
   ],
   "source": [
    "inputs_vel = np.sort(np.append(gain_space, true_theta[4]))\n",
    "inputs_ang = np.sort(np.append(gain_space, true_theta[5]))\n",
    "#loss_log = torch.zeros([len(gain_space)+1, len(gain_space)+1])\n",
    "loss_log = Parallel(n_jobs=num_cores)(delayed(loss_cal)(vel, obs_gains_vel, gain_space, true_theta) for vel, obs_gains_vel in enumerate(inputs_vel))\n",
    "\n",
    "\"\"\"\n",
    "for vel, pro_gains_vel in enumerate(inputs): \n",
    "    result_log = loss_cal(vel, pro_gains_vel, gain_space, true_theta) \n",
    "\"\"\"\n"
   ]
  },
  {
   "cell_type": "code",
   "execution_count": 26,
   "metadata": {},
   "outputs": [
    {
     "data": {
      "text/plain": [
       "[tensor([192482.4688, 191290.8906, 189389.2188, 184413.8281, 180391.1250,\n",
       "         182352.7656, 182974.0625, 179169.0469, 183940.8750, 182782.6094]),\n",
       " tensor([195923.8125, 186929.4531, 177354.6406, 184534.4375, 184722.5938,\n",
       "         171994.9844, 184219.8125, 178662.4688, 190148.4219, 203680.4531]),\n",
       " tensor([189092.9062, 181364.8750, 181949.7500, 175126.4219, 182559.5625,\n",
       "         175489.0625, 188797.7500, 177127.3125, 191297.2188, 189793.3438]),\n",
       " tensor([186310.4219, 184021.2188, 179728.7500, 187636.8125, 175329.4375,\n",
       "         181944.7812, 179764.4844, 182224.3906, 200650.7344, 203186.9062]),\n",
       " tensor([177154.3594, 183908.1250, 170719.5625, 178107.7344, 172997.9219,\n",
       "         189072.4375, 196754.1250, 193091.9688, 201383.0469, 210462.9219]),\n",
       " tensor([185310.4375, 187589.5000, 178873.4219, 175822.6562, 191178.4062,\n",
       "         196371.0156, 188619.0781, 201795.8750, 221120.7188, 213017.4219]),\n",
       " tensor([193207.6719, 180893.5781, 184581.9219, 191052.1250, 195620.1250,\n",
       "         204409.3750, 200225.6406, 215416.5938, 218995.3906, 236458.1094]),\n",
       " tensor([180506.4531, 196987.2656, 186709.8125, 200372.2656, 214235.5156,\n",
       "         208319.6250, 225357.3438, 228100.7500, 234923.5938, 240555.8594]),\n",
       " tensor([181285.2812, 204309.2812, 199622.9375, 216092.3281, 214409.7969,\n",
       "         230326.8125, 223871.0781, 233289.5781, 243803.2344, 251462.1250]),\n",
       " tensor([192239.5625, 206770.9531, 223095.9375, 207629.7344, 228933.8750,\n",
       "         231828.7656, 232382.6406, 236213.2344, 255519.1562, 261432.1250])]"
      ]
     },
     "execution_count": 26,
     "metadata": {},
     "output_type": "execute_result"
    }
   ],
   "source": [
    "loss_log\n",
    "    "
   ]
  },
  {
   "cell_type": "code",
   "execution_count": 27,
   "metadata": {},
   "outputs": [],
   "source": [
    "loss_log_tot = torch.cat([loss_log[i] for i in range (len(loss_log))])"
   ]
  },
  {
   "cell_type": "code",
   "execution_count": 28,
   "metadata": {},
   "outputs": [
    {
     "data": {
      "text/plain": [
       "tensor([192482.4688, 191290.8906, 189389.2188, 184413.8281, 180391.1250,\n",
       "        182352.7656, 182974.0625, 179169.0469, 183940.8750, 182782.6094,\n",
       "        195923.8125, 186929.4531, 177354.6406, 184534.4375, 184722.5938,\n",
       "        171994.9844, 184219.8125, 178662.4688, 190148.4219, 203680.4531,\n",
       "        189092.9062, 181364.8750, 181949.7500, 175126.4219, 182559.5625,\n",
       "        175489.0625, 188797.7500, 177127.3125, 191297.2188, 189793.3438,\n",
       "        186310.4219, 184021.2188, 179728.7500, 187636.8125, 175329.4375,\n",
       "        181944.7812, 179764.4844, 182224.3906, 200650.7344, 203186.9062,\n",
       "        177154.3594, 183908.1250, 170719.5625, 178107.7344, 172997.9219,\n",
       "        189072.4375, 196754.1250, 193091.9688, 201383.0469, 210462.9219,\n",
       "        185310.4375, 187589.5000, 178873.4219, 175822.6562, 191178.4062,\n",
       "        196371.0156, 188619.0781, 201795.8750, 221120.7188, 213017.4219,\n",
       "        193207.6719, 180893.5781, 184581.9219, 191052.1250, 195620.1250,\n",
       "        204409.3750, 200225.6406, 215416.5938, 218995.3906, 236458.1094,\n",
       "        180506.4531, 196987.2656, 186709.8125, 200372.2656, 214235.5156,\n",
       "        208319.6250, 225357.3438, 228100.7500, 234923.5938, 240555.8594,\n",
       "        181285.2812, 204309.2812, 199622.9375, 216092.3281, 214409.7969,\n",
       "        230326.8125, 223871.0781, 233289.5781, 243803.2344, 251462.1250,\n",
       "        192239.5625, 206770.9531, 223095.9375, 207629.7344, 228933.8750,\n",
       "        231828.7656, 232382.6406, 236213.2344, 255519.1562, 261432.1250])"
      ]
     },
     "execution_count": 28,
     "metadata": {},
     "output_type": "execute_result"
    }
   ],
   "source": [
    "loss_log_tot"
   ]
  },
  {
   "cell_type": "code",
   "execution_count": 29,
   "metadata": {},
   "outputs": [
    {
     "data": {
      "text/plain": [
       "tensor([11.4042,  8.6168,  0.2885,  0.9043,  8.5000, 10.5000,  1.7711,  0.1619,\n",
       "         0.2809])"
      ]
     },
     "execution_count": 29,
     "metadata": {},
     "output_type": "execute_result"
    }
   ],
   "source": [
    "true_theta"
   ]
  },
  {
   "cell_type": "code",
   "execution_count": 30,
   "metadata": {},
   "outputs": [],
   "source": [
    "dx, dy = 0.25, 0.25\n",
    "new_gain_space = np.append(gain_space, gain_space.max()+0.5)\n",
    "\n",
    "pinputs_vel = np.sort(np.append(new_gain_space, true_theta[4]))\n",
    "pinputs_ang = np.sort(np.append(new_gain_space, true_theta[5]))\n",
    "y, x = np.meshgrid(pinputs_vel-dx, pinputs_ang-dy)"
   ]
  },
  {
   "cell_type": "code",
   "execution_count": 31,
   "metadata": {},
   "outputs": [
    {
     "data": {
      "text/plain": [
       "array([ 8. ,  8.5,  9. ,  9.5, 10. , 10.5, 11. , 11.5, 12. , 12.5])"
      ]
     },
     "execution_count": 31,
     "metadata": {},
     "output_type": "execute_result"
    }
   ],
   "source": [
    "new_gain_space"
   ]
  },
  {
   "cell_type": "code",
   "execution_count": 32,
   "metadata": {
    "scrolled": true
   },
   "outputs": [
    {
     "data": {
      "text/plain": [
       "Text(0.5, 1.0, 'true[forw,ang]:tensor([ 8.5000, 10.5000])')"
      ]
     },
     "execution_count": 32,
     "metadata": {},
     "output_type": "execute_result"
    },
    {
     "data": {
      "image/png": "[encoded data removed]",
      "text/plain": [
       "<Figure size 432x288 with 2 Axes>"
      ]
     },
     "metadata": {
      "needs_background": "light"
     },
     "output_type": "display_data"
    }
   ],
   "source": [
    "Z = loss_log_tot\n",
    "plt.pcolor(x, y, Z.view(len(inputs_vel), len(inputs_ang)), norm=colors.LogNorm(vmin=Z.min(), vmax=Z.max()))\n",
    "plt.colorbar()\n",
    "plt.xlabel('obs_ang')\n",
    "plt.ylabel('obs_forward')\n",
    "plt.title('true[forw,ang]:{}'.format(true_theta[4:6].data))"
   ]
  },
  {
   "cell_type": "code",
   "execution_count": 33,
   "metadata": {},
   "outputs": [],
   "source": [
    "torch.save(loss_log, '../firefly-inverse-data/data/'+filename+'loss_obs_plotter.pkl')"
   ]
  }
 ],
 "metadata": {
  "@webio": {
   "lastCommId": null,
   "lastKernelId": null
  },
  "kernelspec": {
   "display_name": "Python 3",
   "language": "python",
   "name": "python3"
  },
  "language_info": {
   "codemirror_mode": {
    "name": "ipython",
    "version": 3
   },
   "file_extension": ".py",
   "mimetype": "text/x-python",
   "name": "python",
   "nbconvert_exporter": "python",
   "pygments_lexer": "ipython3",
   "version": "3.7.4"
  }
 },
 "nbformat": 4,
 "nbformat_minor": 2
}
