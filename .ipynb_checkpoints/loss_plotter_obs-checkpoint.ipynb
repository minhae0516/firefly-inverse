{
 "cells": [
  {
   "cell_type": "code",
   "execution_count": 1,
   "metadata": {},
   "outputs": [
    {
     "name": "stdout",
     "output_type": "stream",
     "text": [
      "12 cores are available\n",
      "Running DDPG Agent: using  cpu\n"
     ]
    }
   ],
   "source": [
    "import torch\n",
    "import torch.nn as nn\n",
    "from torch.autograd import grad\n",
    "import pandas as pd\n",
    "from InverseFuncs import trajectory, getLoss, reset_theta, theta_range\n",
    "\n",
    "from DDPGv2Agent import Agent\n",
    "from FireflyEnv import Model # firefly_task.py\n",
    "from collections import deque\n",
    "from Inverse_Config import Inverse_Config\n",
    "import matplotlib.pyplot as plt\n",
    "import matplotlib.colors as colors\n",
    "\n",
    "# read configuration parameters\n",
    "arg = Inverse_Config()\n",
    "\n",
    "# fix random seed\n",
    "import random\n",
    "random.seed(arg.SEED_NUMBER)\n",
    "import torch\n",
    "torch.manual_seed(arg.SEED_NUMBER)\n",
    "if torch.cuda.is_available():\n",
    "    torch.cuda.manual_seed(arg.SEED_NUMBER)\n",
    "import numpy as np\n",
    "np.random.seed(arg.SEED_NUMBER)\n",
    "import time\n",
    "\n",
    "torch.backends.cudnn.deterministic = True\n",
    "torch.backends.cudnn.benchmark = False\n",
    "\n",
    "\n",
    "import multiprocessing\n",
    "from joblib import Parallel, delayed\n",
    "from tqdm import tqdm\n",
    "\n",
    "num_cores = multiprocessing.cpu_count()\n",
    "print(\"{} cores are available\".format(num_cores))\n",
    "\n",
    "# if gpu is to be used\n",
    "#CUDA = False\n",
    "#device = \"cpu\"\n",
    "\n",
    "CUDA = torch.cuda.is_available()\n",
    "device = torch.device(\"cuda\" if torch.cuda.is_available() else \"cpu\")\n",
    "\n",
    "tic = time.time()\n",
    "\n",
    "\n",
    "\n",
    "filename = '20191231-172726-01081157' # agent information\n",
    "\n",
    "learning_arg = torch.load('../firefly-inverse-data/data/20191231-172726_arg.pkl')\n",
    "\n",
    "DISCOUNT_FACTOR = learning_arg.DISCOUNT_FACTOR\n",
    "arg.gains_range = learning_arg.gains_range\n",
    "arg.std_range = learning_arg.std_range\n",
    "arg.goal_radius_range = learning_arg.goal_radius_range\n",
    "arg.WORLD_SIZE = learning_arg.WORLD_SIZE\n",
    "arg.DELTA_T = learning_arg.DELTA_T\n",
    "arg.EPISODE_TIME = learning_arg.EPISODE_TIME\n",
    "arg.EPISODE_LEN = learning_arg.EPISODE_LEN\n",
    "arg.PI_STD = 0.1\n",
    "arg.NUM_EP = 200\n",
    "\n",
    "\n",
    "\n",
    "env = Model(arg) # build an environment\n",
    "env.max_goal_radius = arg.goal_radius_range[1] # use the largest world size for goal radius\n",
    "env.box = arg.WORLD_SIZE\n",
    "agent = Agent(env.state_dim, env.action_dim, arg,  filename, hidden_dim=128, gamma=DISCOUNT_FACTOR, tau=0.001) #, device = \"cpu\")\n",
    "agent.load(filename)\n"
   ]
  },
  {
   "cell_type": "code",
   "execution_count": 2,
   "metadata": {},
   "outputs": [
    {
     "data": {
      "text/plain": [
       "0.1"
      ]
     },
     "execution_count": 2,
     "metadata": {},
     "output_type": "execute_result"
    }
   ],
   "source": [
    "arg.PI_STD"
   ]
  },
  {
   "cell_type": "code",
   "execution_count": 3,
   "metadata": {},
   "outputs": [
    {
     "data": {
      "text/plain": [
       "200"
      ]
     },
     "execution_count": 3,
     "metadata": {},
     "output_type": "execute_result"
    }
   ],
   "source": [
    "arg.NUM_EP"
   ]
  },
  {
   "cell_type": "code",
   "execution_count": 4,
   "metadata": {},
   "outputs": [
    {
     "data": {
      "text/plain": [
       "5"
      ]
     },
     "execution_count": 4,
     "metadata": {},
     "output_type": "execute_result"
    }
   ],
   "source": [
    "arg.NUM_SAMPLES"
   ]
  },
  {
   "cell_type": "code",
   "execution_count": 5,
   "metadata": {},
   "outputs": [],
   "source": [
    "def loss_cal(vel, obs_gains_vel, gain_space, true_theta):\n",
    "    \n",
    "    loss_log = torch.zeros(len(gain_space)+1)\n",
    "    pro_gains = torch.zeros(2)\n",
    "    pro_noise_stds = torch.zeros(2)\n",
    "    obs_gains = torch.zeros(2)\n",
    "    obs_noise_stds = torch.zeros(2)\n",
    "    goal_radius = torch.zeros(1)\n",
    "    \n",
    "    theta_log = []\n",
    "    inputs_ang = np.sort(np.append(gain_space, true_theta[5]))\n",
    "\n",
    "    obs_gains[0] = obs_gains_vel\n",
    "    for ang, obs_gains_ang in enumerate(tqdm(inputs_ang)):\n",
    "        obs_gains[1] = obs_gains_ang\n",
    "        for pro_gains_vel  in [true_theta[0]]:#np.append(gain_space, true_theta[4]):\n",
    "            pro_gains[0] = pro_gains_vel\n",
    "            for pro_gains_ang in [true_theta[1]]:#np.append(gain_space, true_theta[5]):\n",
    "                pro_gains[1] = pro_gains_ang\n",
    "                for pro_std_vel in [true_theta[2]]:#np.append(std_space, true_theta[2]):\n",
    "                    pro_noise_stds[0] = pro_std_vel\n",
    "                    for pro_std_ang in [true_theta[3]]:#np.append(std_space, true_theta[3]):\n",
    "                        pro_noise_stds[1] = pro_std_ang\n",
    "                        for obs_std_vel in [true_theta[6]]:#np.append(std_space, true_theta[6]):\n",
    "                            obs_noise_stds[0] = obs_std_vel \n",
    "                            for obs_std_ang in [true_theta[7]]:#np.append(std_space, true_theta[7]):\n",
    "                                obs_noise_stds[1] = obs_std_ang\n",
    "                                for goal_r in [true_theta[8]]: #np.append(goal_radius_space, true_theta[8]):\n",
    "                                    goal_radius[0] = goal_r\n",
    "                                    \n",
    "                                    \n",
    "                                    theta = torch.cat([pro_gains, pro_noise_stds, obs_gains, obs_noise_stds, goal_radius])\n",
    "    \n",
    "    \n",
    "                                    theta_log.append(theta.data)\n",
    "                                    loss = getLoss(agent, x_traj, a_traj, theta, env, arg.gains_range, arg.std_range, arg.PI_STD, arg.NUM_SAMPLES)\n",
    "                                    loss_log[ang] = loss.data\n",
    "                                    #loss_log.append(loss.data)\n",
    "\n",
    "                                    print(\"num:{}, theta:{}, loss:{}\".format(vel, theta, loss))\n",
    "                        \n",
    "                        \n",
    "    \"\"\"\n",
    "    result = {'true_theta': true_theta,\n",
    "         'true_loss': true_loss,\n",
    "         'theta_log': theta_log,\n",
    "         'loss_log': loss_log}\n",
    "    \"\"\"\n",
    "    return loss_log\n"
   ]
  },
  {
   "cell_type": "code",
   "execution_count": 6,
   "metadata": {},
   "outputs": [
    {
     "name": "stdout",
     "output_type": "stream",
     "text": [
      "true loss:45588.859375\n",
      "true_theta:tensor([11.4042,  8.6168,  0.2885,  0.9043, 11.1173,  8.1504,  1.7711,  0.1619,\n",
      "         0.2809])\n"
     ]
    }
   ],
   "source": [
    "# true theta\n",
    "#true_theta = reset_theta(arg.gains_range, arg.std_range, arg.goal_radius_range)\n",
    "#true_theta[4]=8.5\n",
    "#true_theta[5]=10.5\n",
    "true_theta=torch.tensor([11.4042,  8.6168,  0.2885,  0.9043, 11.1173,  8.1504,  1.7711,  0.1619,0.2809])\n",
    "\n",
    "\n",
    "x_traj, obs_traj, a_traj, _ = trajectory(agent, true_theta, env, arg, arg.gains_range, arg.std_range,arg.goal_radius_range, arg.NUM_EP)  # generate true trajectory\n",
    "true_loss = getLoss(agent, x_traj, a_traj, true_theta, env, arg.gains_range, arg.std_range, arg.PI_STD, arg.NUM_SAMPLES)  # this is the lower bound of loss?\n",
    "print(\"true loss:{}\".format(true_loss))\n",
    "print(\"true_theta:{}\".format(true_theta))\n",
    "\n",
    "current_theta = true_theta"
   ]
  },
  {
   "cell_type": "code",
   "execution_count": 7,
   "metadata": {},
   "outputs": [],
   "source": [
    "gain_space = np.linspace(arg.gains_range[0],arg.gains_range[1], num = 9)\n",
    "std_space = np.linspace(arg.std_range[0], arg.std_range[1], num = 3)\n",
    "goal_radius_space = np.linspace(arg.goal_radius_range[0], arg.goal_radius_range[1], num =3)"
   ]
  },
  {
   "cell_type": "code",
   "execution_count": 8,
   "metadata": {},
   "outputs": [
    {
     "data": {
      "text/plain": [
       "array([ 8. ,  8.5,  9. ,  9.5, 10. , 10.5, 11. , 11.5, 12. ])"
      ]
     },
     "execution_count": 8,
     "metadata": {},
     "output_type": "execute_result"
    }
   ],
   "source": [
    "gain_space"
   ]
  },
  {
   "cell_type": "code",
   "execution_count": 9,
   "metadata": {},
   "outputs": [
    {
     "data": {
      "text/plain": [
       "tensor([11.4042,  8.6168,  0.2885,  0.9043, 11.1173,  8.1504,  1.7711,  0.1619,\n",
       "         0.2809])"
      ]
     },
     "execution_count": 9,
     "metadata": {},
     "output_type": "execute_result"
    }
   ],
   "source": [
    "true_theta\n"
   ]
  },
  {
   "cell_type": "code",
   "execution_count": 10,
   "metadata": {},
   "outputs": [],
   "source": [
    "\n",
    "\n",
    "current_theta=torch.tensor([1.1317e+01, 9.4697e+00, 0.9043, 11.1173, 8.5746e+00, 1.1349e+01,\n",
    "       1.7711,  0.1619, 2.7517e-01])\n"
   ]
  },
  {
   "cell_type": "code",
   "execution_count": 11,
   "metadata": {},
   "outputs": [
    {
     "data": {
      "text/plain": [
       "'\\nfor vel, pro_gains_vel in enumerate(inputs): \\n    result_log = loss_cal(vel, pro_gains_vel, gain_space, true_theta) \\n'"
      ]
     },
     "execution_count": 11,
     "metadata": {},
     "output_type": "execute_result"
    }
   ],
   "source": [
    "inputs_vel = np.sort(np.append(gain_space, true_theta[4]))\n",
    "inputs_ang = np.sort(np.append(gain_space, true_theta[5]))\n",
    "#loss_log = torch.zeros([len(gain_space)+1, len(gain_space)+1])\n",
    "loss_log = Parallel(n_jobs=num_cores)(delayed(loss_cal)(vel, obs_gains_vel, gain_space, current_theta) for vel, obs_gains_vel in enumerate(inputs_vel))\n",
    "\n",
    "\"\"\"\n",
    "for vel, pro_gains_vel in enumerate(inputs): \n",
    "    result_log = loss_cal(vel, pro_gains_vel, gain_space, true_theta) \n",
    "\"\"\"\n"
   ]
  },
  {
   "cell_type": "code",
   "execution_count": 12,
   "metadata": {},
   "outputs": [
    {
     "data": {
      "text/plain": [
       "[tensor([136857.9219, 128739.1484, 118691.6641, 115815.1016, 109187.9688,\n",
       "         104996.4766, 101615.5469, 106084.5938, 109403.4219, 108122.9766]),\n",
       " tensor([135735.2969, 127024.0859, 117918.8125, 119997.1484, 109871.5469,\n",
       "         104065.3516, 105230.1250, 109174.2969, 101660.3828, 107970.0000]),\n",
       " tensor([133783.2344, 125575.0312, 114840.1484, 121258.9531, 110559.3906,\n",
       "         102500.0469, 109618.2734, 109673.9219, 112130.8984, 107919.5078]),\n",
       " tensor([132882.5312, 126154.7969, 116835.0859, 109500.3750, 108821.3906,\n",
       "         110468.6406, 109839.1641, 111102.3047, 107106.2188, 104937.8203]),\n",
       " tensor([136832.2031, 130569.9219, 111395.6016, 112161.3516, 109630.6250,\n",
       "         113724.1328, 108639.8203, 108214.6172, 108619.3047, 112001.3047]),\n",
       " tensor([130254.1484, 122907.1172, 112715.4688, 115358.6484, 109638.2656,\n",
       "         113918.8203, 112789.1016, 112530.0156, 114041.5391, 116227.9297]),\n",
       " tensor([131845.8125, 123292.3125, 114832.0781, 112844.5703, 111116.9531,\n",
       "         107683.5703, 111549.7578, 109366.0703, 102625.3203, 110642.1328]),\n",
       " tensor([135100.4688, 119534.6484, 115354.0781, 113617.8438, 106120.9297,\n",
       "         106586.7109, 112110.5234, 108049.1953, 110478.1094, 108236.0312]),\n",
       " tensor([134544.7500, 117748.1953, 117191.5000, 111658.5625, 112747.9688,\n",
       "         104847.0234, 106702.9922, 108209.7031, 106218.2266, 111905.9609]),\n",
       " tensor([131743.4531, 119046.6719, 114492.7266, 112109.1953, 105401.8281,\n",
       "         108089.9219, 105307.9609, 104883.8359, 110404.5625, 107059.2734])]"
      ]
     },
     "execution_count": 12,
     "metadata": {},
     "output_type": "execute_result"
    }
   ],
   "source": [
    "loss_log\n",
    "    "
   ]
  },
  {
   "cell_type": "code",
   "execution_count": 13,
   "metadata": {},
   "outputs": [],
   "source": [
    "loss_log_tot = torch.cat([loss_log[i] for i in range (len(loss_log))])"
   ]
  },
  {
   "cell_type": "code",
   "execution_count": 14,
   "metadata": {},
   "outputs": [
    {
     "data": {
      "text/plain": [
       "tensor([136857.9219, 128739.1484, 118691.6641, 115815.1016, 109187.9688,\n",
       "        104996.4766, 101615.5469, 106084.5938, 109403.4219, 108122.9766,\n",
       "        135735.2969, 127024.0859, 117918.8125, 119997.1484, 109871.5469,\n",
       "        104065.3516, 105230.1250, 109174.2969, 101660.3828, 107970.0000,\n",
       "        133783.2344, 125575.0312, 114840.1484, 121258.9531, 110559.3906,\n",
       "        102500.0469, 109618.2734, 109673.9219, 112130.8984, 107919.5078,\n",
       "        132882.5312, 126154.7969, 116835.0859, 109500.3750, 108821.3906,\n",
       "        110468.6406, 109839.1641, 111102.3047, 107106.2188, 104937.8203,\n",
       "        136832.2031, 130569.9219, 111395.6016, 112161.3516, 109630.6250,\n",
       "        113724.1328, 108639.8203, 108214.6172, 108619.3047, 112001.3047,\n",
       "        130254.1484, 122907.1172, 112715.4688, 115358.6484, 109638.2656,\n",
       "        113918.8203, 112789.1016, 112530.0156, 114041.5391, 116227.9297,\n",
       "        131845.8125, 123292.3125, 114832.0781, 112844.5703, 111116.9531,\n",
       "        107683.5703, 111549.7578, 109366.0703, 102625.3203, 110642.1328,\n",
       "        135100.4688, 119534.6484, 115354.0781, 113617.8438, 106120.9297,\n",
       "        106586.7109, 112110.5234, 108049.1953, 110478.1094, 108236.0312,\n",
       "        134544.7500, 117748.1953, 117191.5000, 111658.5625, 112747.9688,\n",
       "        104847.0234, 106702.9922, 108209.7031, 106218.2266, 111905.9609,\n",
       "        131743.4531, 119046.6719, 114492.7266, 112109.1953, 105401.8281,\n",
       "        108089.9219, 105307.9609, 104883.8359, 110404.5625, 107059.2734])"
      ]
     },
     "execution_count": 14,
     "metadata": {},
     "output_type": "execute_result"
    }
   ],
   "source": [
    "loss_log_tot"
   ]
  },
  {
   "cell_type": "code",
   "execution_count": 15,
   "metadata": {},
   "outputs": [
    {
     "data": {
      "text/plain": [
       "tensor([11.4042,  8.6168,  0.2885,  0.9043, 11.1173,  8.1504,  1.7711,  0.1619,\n",
       "         0.2809])"
      ]
     },
     "execution_count": 15,
     "metadata": {},
     "output_type": "execute_result"
    }
   ],
   "source": [
    "true_theta"
   ]
  },
  {
   "cell_type": "code",
   "execution_count": 16,
   "metadata": {},
   "outputs": [],
   "source": [
    "dx, dy = 0.25, 0.25\n",
    "new_gain_space = np.append(gain_space, gain_space.max()+0.5)\n",
    "\n",
    "pinputs_vel = np.sort(np.append(new_gain_space, true_theta[4]))\n",
    "pinputs_ang = np.sort(np.append(new_gain_space, true_theta[5]))\n",
    "x,y = np.meshgrid( pinputs_ang-dy, pinputs_vel-dx)\n",
    "Z = loss_log_tot"
   ]
  },
  {
   "cell_type": "code",
   "execution_count": 17,
   "metadata": {},
   "outputs": [
    {
     "data": {
      "text/plain": [
       "<matplotlib.colorbar.Colorbar at 0x7fbc681cc6d0>"
      ]
     },
     "execution_count": 17,
     "metadata": {},
     "output_type": "execute_result"
    },
    {
     "data": {
      "image/png": "[encoded data removed]",
      "text/plain": [
       "<Figure size 432x288 with 2 Axes>"
      ]
     },
     "metadata": {
      "needs_background": "light"
     },
     "output_type": "display_data"
    }
   ],
   "source": [
    "plt.contourf(inputs_ang, inputs_vel,Z.view(len(inputs_vel), len(inputs_ang)))  \n",
    "plt.xlabel('obs_ang')\n",
    "plt.ylabel('obs_forward')\n",
    "plt.title('true[forw,ang]:{}'.format(true_theta[4:6].data))\n",
    "plt.colorbar()"
   ]
  },
  {
   "cell_type": "code",
   "execution_count": 18,
   "metadata": {},
   "outputs": [
    {
     "data": {
      "text/plain": [
       "array([ 8. ,  8.5,  9. ,  9.5, 10. , 10.5, 11. , 11.5, 12. , 12.5])"
      ]
     },
     "execution_count": 18,
     "metadata": {},
     "output_type": "execute_result"
    }
   ],
   "source": [
    "new_gain_space"
   ]
  },
  {
   "cell_type": "code",
   "execution_count": 19,
   "metadata": {
    "scrolled": true
   },
   "outputs": [
    {
     "data": {
      "text/plain": [
       "Text(0.5, 1.0, 'true[forw,ang]:tensor([11.1173,  8.1504])')"
      ]
     },
     "execution_count": 19,
     "metadata": {},
     "output_type": "execute_result"
    },
    {
     "data": {
      "image/png": "[encoded data removed]",
      "text/plain": [
       "<Figure size 432x288 with 2 Axes>"
      ]
     },
     "metadata": {
      "needs_background": "light"
     },
     "output_type": "display_data"
    }
   ],
   "source": [
    "\n",
    "plt.pcolor(x, y, Z.view(len(inputs_vel), len(inputs_ang)), norm=colors.LogNorm(vmin=Z.min(), vmax=Z.max()))\n",
    "plt.colorbar()\n",
    "plt.xlabel('obs_ang')\n",
    "plt.ylabel('obs_forward')\n",
    "plt.title('true[forw,ang]:{}'.format(true_theta[4:6].data))\n"
   ]
  },
  {
   "cell_type": "code",
   "execution_count": 20,
   "metadata": {},
   "outputs": [],
   "source": [
    "torch.save(loss_log, '../firefly-inverse-data/data/'+filename+'loss_obs_plotter.pkl')"
   ]
  }
 ],
 "metadata": {
  "@webio": {
   "lastCommId": null,
   "lastKernelId": null
  },
  "kernelspec": {
   "display_name": "Python 3",
   "language": "python",
   "name": "python3"
  },
  "language_info": {
   "codemirror_mode": {
    "name": "ipython",
    "version": 3
   },
   "file_extension": ".py",
   "mimetype": "text/x-python",
   "name": "python",
   "nbconvert_exporter": "python",
   "pygments_lexer": "ipython3",
   "version": "3.7.4"
  }
 },
 "nbformat": 4,
 "nbformat_minor": 2
}
