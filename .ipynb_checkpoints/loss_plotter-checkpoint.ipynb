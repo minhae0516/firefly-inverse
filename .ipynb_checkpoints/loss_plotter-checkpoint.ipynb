{
 "cells": [
  {
   "cell_type": "code",
   "execution_count": 1,
   "metadata": {},
   "outputs": [
    {
     "name": "stdout",
     "output_type": "stream",
     "text": [
      "12 cores are available\n",
      "Running DDPG Agent: using  cpu\n"
     ]
    }
   ],
   "source": [
    "import torch\n",
    "import torch.nn as nn\n",
    "from torch.autograd import grad\n",
    "import pandas as pd\n",
    "from InverseFuncs import trajectory, getLoss, reset_theta, theta_range\n",
    "\n",
    "from DDPGv2Agent import Agent\n",
    "from FireflyEnv import Model # firefly_task.py\n",
    "from collections import deque\n",
    "from Inverse_Config import Inverse_Config\n",
    "import matplotlib.pyplot as plt\n",
    "import matplotlib.colors as colors\n",
    "\n",
    "# read configuration parameters\n",
    "arg = Inverse_Config()\n",
    "\n",
    "# fix random seed\n",
    "import random\n",
    "random.seed(arg.SEED_NUMBER)\n",
    "import torch\n",
    "torch.manual_seed(arg.SEED_NUMBER)\n",
    "if torch.cuda.is_available():\n",
    "    torch.cuda.manual_seed(arg.SEED_NUMBER)\n",
    "import numpy as np\n",
    "np.random.seed(arg.SEED_NUMBER)\n",
    "import time\n",
    "\n",
    "torch.backends.cudnn.deterministic = True\n",
    "torch.backends.cudnn.benchmark = False\n",
    "\n",
    "\n",
    "import multiprocessing\n",
    "from joblib import Parallel, delayed\n",
    "from tqdm import tqdm\n",
    "\n",
    "num_cores = multiprocessing.cpu_count()\n",
    "print(\"{} cores are available\".format(num_cores))\n",
    "\n",
    "# if gpu is to be used\n",
    "#CUDA = False\n",
    "#device = \"cpu\"\n",
    "\n",
    "CUDA = torch.cuda.is_available()\n",
    "device = torch.device(\"cuda\" if torch.cuda.is_available() else \"cpu\")\n",
    "\n",
    "tic = time.time()\n",
    "\n",
    "\n",
    "\n",
    "filename = '20191231-172726-01081157' # agent information\n",
    "\n",
    "learning_arg = torch.load('../firefly-inverse-data/data/20191231-172726_arg.pkl')\n",
    "\n",
    "DISCOUNT_FACTOR = learning_arg.DISCOUNT_FACTOR\n",
    "arg.gains_range = learning_arg.gains_range\n",
    "arg.std_range = learning_arg.std_range\n",
    "arg.goal_radius_range = learning_arg.goal_radius_range\n",
    "arg.WORLD_SIZE = learning_arg.WORLD_SIZE\n",
    "arg.DELTA_T = learning_arg.DELTA_T\n",
    "arg.EPISODE_TIME = learning_arg.EPISODE_TIME\n",
    "arg.EPISODE_LEN = learning_arg.EPISODE_LEN\n",
    "arg.PI_STD = 0.1\n",
    "arg.NUM_EP = 200\n",
    "arg.NUM_SAMPLES = 5\n",
    "\n",
    "\n",
    "env = Model(arg) # build an environment\n",
    "env.max_goal_radius = arg.goal_radius_range[1] # use the largest world size for goal radius\n",
    "env.box = arg.WORLD_SIZE\n",
    "agent = Agent(env.state_dim, env.action_dim, arg,  filename, hidden_dim=128, gamma=DISCOUNT_FACTOR, tau=0.001) #, device = \"cpu\")\n",
    "agent.load(filename)\n"
   ]
  },
  {
   "cell_type": "code",
   "execution_count": 2,
   "metadata": {},
   "outputs": [
    {
     "data": {
      "text/plain": [
       "0.1"
      ]
     },
     "execution_count": 2,
     "metadata": {},
     "output_type": "execute_result"
    }
   ],
   "source": [
    "arg.PI_STD"
   ]
  },
  {
   "cell_type": "code",
   "execution_count": 3,
   "metadata": {},
   "outputs": [],
   "source": [
    "def loss_cal(vel, pro_gains_vel, gain_space, true_theta):\n",
    "    \n",
    "    loss_log = torch.zeros(len(gain_space)+1)\n",
    "    pro_gains = torch.zeros(2)\n",
    "    pro_noise_stds = torch.zeros(2)\n",
    "    obs_gains = torch.zeros(2)\n",
    "    obs_noise_stds = torch.zeros(2)\n",
    "    goal_radius = torch.zeros(1)\n",
    "    \n",
    "    theta_log = []\n",
    "    inputs_ang = np.sort(np.append(gain_space, true_theta[1]))\n",
    "\n",
    "    pro_gains[0] = pro_gains_vel\n",
    "    for ang, pro_gains_ang in enumerate(tqdm(inputs_ang)):\n",
    "        pro_gains[1] = pro_gains_ang\n",
    "        for obs_gains_vel  in [true_theta[4]]:#np.append(gain_space, true_theta[4]):\n",
    "            obs_gains[0] = obs_gains_vel\n",
    "            for obs_gains_ang in [true_theta[5]]:#np.append(gain_space, true_theta[5]):\n",
    "                obs_gains[1] = obs_gains_ang\n",
    "                for pro_std_vel in [true_theta[2]]:#np.append(std_space, true_theta[2]):\n",
    "                    pro_noise_stds[0] = pro_std_vel\n",
    "                    for pro_std_ang in [true_theta[3]]:#np.append(std_space, true_theta[3]):\n",
    "                        pro_noise_stds[1] = pro_std_ang\n",
    "                        for obs_std_vel in [true_theta[6]]:#np.append(std_space, true_theta[6]):\n",
    "                            obs_noise_stds[0] = obs_std_vel \n",
    "                            for obs_std_ang in [true_theta[7]]:#np.append(std_space, true_theta[7]):\n",
    "                                obs_noise_stds[1] = obs_std_ang\n",
    "                                for goal_r in [true_theta[8]]: #np.append(goal_radius_space, true_theta[8]):\n",
    "                                    goal_radius[0] = goal_r\n",
    "                                    \n",
    "                                    \n",
    "                                    theta = torch.cat([pro_gains, pro_noise_stds, obs_gains, obs_noise_stds, goal_radius])\n",
    "    \n",
    "    \n",
    "                                    theta_log.append(theta.data)\n",
    "                                    loss = getLoss(agent, x_traj, a_traj, theta, env, arg.gains_range, arg.std_range, arg.PI_STD, arg.NUM_SAMPLES)\n",
    "                                    loss_log[ang] = loss.data\n",
    "                                    #loss_log.append(loss.data)\n",
    "\n",
    "                                    print(\"num:{}, theta:{}, loss:{}\".format(vel, theta, loss))\n",
    "                        \n",
    "                        \n",
    "    \"\"\"\n",
    "    result = {'true_theta': true_theta,\n",
    "         'true_loss': true_loss,\n",
    "         'theta_log': theta_log,\n",
    "         'loss_log': loss_log}\n",
    "    \"\"\"\n",
    "    return loss_log\n"
   ]
  },
  {
   "cell_type": "code",
   "execution_count": 4,
   "metadata": {
    "scrolled": true
   },
   "outputs": [
    {
     "name": "stdout",
     "output_type": "stream",
     "text": [
      "true loss:90898.7890625\n",
      "true_theta:tensor([11.4042,  8.6168,  0.2885,  0.9043, 11.1173,  8.1504,  1.7711,  0.1619,\n",
      "         0.2809])\n"
     ]
    }
   ],
   "source": [
    "# true theta\n",
    "#true_theta = reset_theta(arg.gains_range, arg.std_range, arg.goal_radius_range)\n",
    "#true_theta[0]=11.5\n",
    "#true_theta[1]=11.5\n",
    "true_theta=torch.tensor([11.4042,  8.6168,  0.2885,  0.9043, 11.1173,  8.1504,  1.7711,  0.1619,0.2809])\n",
    "\n",
    "\n",
    "x_traj, obs_traj, a_traj, _ = trajectory(agent, true_theta, env, arg, arg.gains_range, arg.std_range,arg.goal_radius_range, arg.NUM_EP)  # generate true trajectory\n",
    "true_loss = getLoss(agent, x_traj, a_traj, true_theta, env, arg.gains_range, arg.std_range, arg.PI_STD, arg.NUM_SAMPLES)  # this is the lower bound of loss?\n",
    "print(\"true loss:{}\".format(true_loss))\n",
    "print(\"true_theta:{}\".format(true_theta))\n",
    "\n",
    "current_theta = true_theta"
   ]
  },
  {
   "cell_type": "code",
   "execution_count": 5,
   "metadata": {},
   "outputs": [],
   "source": [
    "current_theta=torch.tensor([10.2677,  8.6815,  1.8098,  1.0059, 11.2995, 10.0901,  0.3982,  0.0337,0.3030]) #initial theta\n"
   ]
  },
  {
   "cell_type": "code",
   "execution_count": 6,
   "metadata": {},
   "outputs": [],
   "source": [
    "gain_space = np.linspace(arg.gains_range[0],arg.gains_range[1], num = 9)\n",
    "std_space = np.linspace(arg.std_range[0], arg.std_range[1], num = 3)\n",
    "goal_radius_space = np.linspace(arg.goal_radius_range[0], arg.goal_radius_range[1], num =3)"
   ]
  },
  {
   "cell_type": "code",
   "execution_count": 7,
   "metadata": {},
   "outputs": [
    {
     "data": {
      "text/plain": [
       "array([ 8. ,  8.5,  9. ,  9.5, 10. , 10.5, 11. , 11.5, 12. ])"
      ]
     },
     "execution_count": 7,
     "metadata": {},
     "output_type": "execute_result"
    }
   ],
   "source": [
    "gain_space"
   ]
  },
  {
   "cell_type": "code",
   "execution_count": 8,
   "metadata": {},
   "outputs": [
    {
     "data": {
      "text/plain": [
       "tensor([11.4042,  8.6168,  0.2885,  0.9043, 11.1173,  8.1504,  1.7711,  0.1619,\n",
       "         0.2809])"
      ]
     },
     "execution_count": 8,
     "metadata": {},
     "output_type": "execute_result"
    }
   ],
   "source": [
    "true_theta\n"
   ]
  },
  {
   "cell_type": "code",
   "execution_count": 9,
   "metadata": {},
   "outputs": [],
   "source": [
    "inputs_vel = np.sort(np.append(gain_space, true_theta[0]))\n",
    "inputs_ang = np.sort(np.append(gain_space, true_theta[1]))\n",
    "\n",
    "#loss_log = torch.zeros([len(gain_space)+1, len(gain_space)+1])\n",
    "loss_log = Parallel(n_jobs=num_cores)(delayed(loss_cal)(vel, pro_gains_vel, gain_space, current_theta) for vel, pro_gains_vel in enumerate(inputs_vel))\n"
   ]
  },
  {
   "cell_type": "code",
   "execution_count": 10,
   "metadata": {},
   "outputs": [
    {
     "data": {
      "text/plain": [
       "[tensor([221416.5000, 215920.9219, 216301.4531, 215828.7031, 217347.4688,\n",
       "         219347.2812, 222083.0000, 224686.2188, 231653.9531, 236673.0938]),\n",
       " tensor([201835.3750, 201287.0625, 202260.1094, 203969.9531, 201235.7031,\n",
       "         208740.6719, 207438.6875, 211310.4844, 211705.3906, 218831.9062]),\n",
       " tensor([184627.0469, 186171.2656, 184779.5156, 185319.0781, 180241.7969,\n",
       "         187349.9531, 191648.8906, 192223.8906, 197844.0156, 199129.7344]),\n",
       " tensor([163895.9688, 162060.7969, 160395.1719, 160664.7969, 164715.2500,\n",
       "         159782.8281, 167431.5781, 171448.8906, 175649.9219, 178396.3750]),\n",
       " tensor([138376.7188, 139965.2656, 137715.3281, 142474.9844, 139968.3125,\n",
       "         144275.9062, 146242.4062, 149646.8281, 156911.8438, 163187.2344]),\n",
       " tensor([120221.8750, 119946.3984, 123577.0859, 119888.5547, 122687.0781,\n",
       "         126247.0000, 128856.3516, 135286.3906, 141095.4844, 144766.5156]),\n",
       " tensor([100959.0312, 106331.6641, 105033.8672, 105614.9219, 108866.8906,\n",
       "         110877.6953, 116503.0078, 122985.7578, 126829.2500, 130488.7891]),\n",
       " tensor([ 99354.4922,  95433.5859,  99395.4766,  96035.1953, 101364.2891,\n",
       "         103244.7734, 110369.8281, 116612.4453, 121772.1406, 130358.0703]),\n",
       " tensor([ 93375.8672,  95058.7578,  96399.1484,  95573.5703,  99190.2969,\n",
       "         100985.2734, 106014.6172, 112396.2656, 120628.1797, 126243.0781]),\n",
       " tensor([ 95796.1250,  97799.1016,  94552.0547,  97134.5938, 100662.5156,\n",
       "         103405.9844, 108924.1875, 117858.1250, 122838.4297, 129802.8125])]"
      ]
     },
     "execution_count": 10,
     "metadata": {},
     "output_type": "execute_result"
    }
   ],
   "source": [
    "loss_log\n",
    "    "
   ]
  },
  {
   "cell_type": "code",
   "execution_count": 11,
   "metadata": {},
   "outputs": [],
   "source": [
    "loss_log_tot = torch.cat([loss_log[i] for i in range (len(loss_log))])"
   ]
  },
  {
   "cell_type": "code",
   "execution_count": 12,
   "metadata": {
    "scrolled": true
   },
   "outputs": [
    {
     "data": {
      "text/plain": [
       "tensor([221416.5000, 215920.9219, 216301.4531, 215828.7031, 217347.4688,\n",
       "        219347.2812, 222083.0000, 224686.2188, 231653.9531, 236673.0938,\n",
       "        201835.3750, 201287.0625, 202260.1094, 203969.9531, 201235.7031,\n",
       "        208740.6719, 207438.6875, 211310.4844, 211705.3906, 218831.9062,\n",
       "        184627.0469, 186171.2656, 184779.5156, 185319.0781, 180241.7969,\n",
       "        187349.9531, 191648.8906, 192223.8906, 197844.0156, 199129.7344,\n",
       "        163895.9688, 162060.7969, 160395.1719, 160664.7969, 164715.2500,\n",
       "        159782.8281, 167431.5781, 171448.8906, 175649.9219, 178396.3750,\n",
       "        138376.7188, 139965.2656, 137715.3281, 142474.9844, 139968.3125,\n",
       "        144275.9062, 146242.4062, 149646.8281, 156911.8438, 163187.2344,\n",
       "        120221.8750, 119946.3984, 123577.0859, 119888.5547, 122687.0781,\n",
       "        126247.0000, 128856.3516, 135286.3906, 141095.4844, 144766.5156,\n",
       "        100959.0312, 106331.6641, 105033.8672, 105614.9219, 108866.8906,\n",
       "        110877.6953, 116503.0078, 122985.7578, 126829.2500, 130488.7891,\n",
       "         99354.4922,  95433.5859,  99395.4766,  96035.1953, 101364.2891,\n",
       "        103244.7734, 110369.8281, 116612.4453, 121772.1406, 130358.0703,\n",
       "         93375.8672,  95058.7578,  96399.1484,  95573.5703,  99190.2969,\n",
       "        100985.2734, 106014.6172, 112396.2656, 120628.1797, 126243.0781,\n",
       "         95796.1250,  97799.1016,  94552.0547,  97134.5938, 100662.5156,\n",
       "        103405.9844, 108924.1875, 117858.1250, 122838.4297, 129802.8125])"
      ]
     },
     "execution_count": 12,
     "metadata": {},
     "output_type": "execute_result"
    }
   ],
   "source": [
    "loss_log_tot"
   ]
  },
  {
   "cell_type": "code",
   "execution_count": 13,
   "metadata": {},
   "outputs": [
    {
     "data": {
      "text/plain": [
       "tensor([11.4042,  8.6168,  0.2885,  0.9043, 11.1173,  8.1504,  1.7711,  0.1619,\n",
       "         0.2809])"
      ]
     },
     "execution_count": 13,
     "metadata": {},
     "output_type": "execute_result"
    }
   ],
   "source": [
    "true_theta"
   ]
  },
  {
   "cell_type": "code",
   "execution_count": 14,
   "metadata": {},
   "outputs": [],
   "source": [
    "dx, dy = 0.25, 0.25\n",
    "new_gain_space = np.append(gain_space, gain_space.max()+0.5)\n",
    "\n",
    "pinputs_vel = np.sort(np.append(new_gain_space, true_theta[0]))\n",
    "pinputs_ang = np.sort(np.append(new_gain_space, true_theta[1]))\n",
    "x,y = np.meshgrid( pinputs_ang-dy, pinputs_vel-dx)\n",
    "Z = loss_log_tot"
   ]
  },
  {
   "cell_type": "code",
   "execution_count": 15,
   "metadata": {},
   "outputs": [
    {
     "data": {
      "text/plain": [
       "<matplotlib.colorbar.Colorbar at 0x7fe358d4eb90>"
      ]
     },
     "execution_count": 15,
     "metadata": {},
     "output_type": "execute_result"
    },
    {
     "data": {
      "image/png": "[encoded data removed]",
      "text/plain": [
       "<Figure size 432x288 with 2 Axes>"
      ]
     },
     "metadata": {
      "needs_background": "light"
     },
     "output_type": "display_data"
    }
   ],
   "source": [
    "plt.contourf(inputs_ang, inputs_vel,Z.view(len(inputs_vel), len(inputs_ang)))  \n",
    "plt.xlabel('process_ang')\n",
    "plt.ylabel('process_forward')\n",
    "plt.title('true[forw,ang]:{}'.format(true_theta[:2].data))\n",
    "plt.colorbar()"
   ]
  },
  {
   "cell_type": "code",
   "execution_count": 16,
   "metadata": {
    "scrolled": true
   },
   "outputs": [
    {
     "data": {
      "text/plain": [
       "Text(0.5, 1.0, 'true[forw,ang]:tensor([11.4042,  8.6168])')"
      ]
     },
     "execution_count": 16,
     "metadata": {},
     "output_type": "execute_result"
    },
    {
     "data": {
      "image/png": "[encoded data removed]",
      "text/plain": [
       "<Figure size 432x288 with 2 Axes>"
      ]
     },
     "metadata": {
      "needs_background": "light"
     },
     "output_type": "display_data"
    }
   ],
   "source": [
    "\n",
    "plt.pcolor(x, y, Z.view(len(inputs_vel), len(inputs_ang)), norm=colors.LogNorm(vmin=Z.min(), vmax=Z.max()))\n",
    "plt.colorbar()\n",
    "plt.xlabel('process_ang')\n",
    "plt.ylabel('process_forward')\n",
    "plt.title('true[forw,ang]:{}'.format(true_theta[:2].data))"
   ]
  },
  {
   "cell_type": "code",
   "execution_count": 17,
   "metadata": {},
   "outputs": [],
   "source": [
    "torch.save(loss_log, '../firefly-inverse-data/data/'+filename+'loss_plotter.pkl')"
   ]
  }
 ],
 "metadata": {
  "@webio": {
   "lastCommId": null,
   "lastKernelId": null
  },
  "kernelspec": {
   "display_name": "Python 3",
   "language": "python",
   "name": "python3"
  },
  "language_info": {
   "codemirror_mode": {
    "name": "ipython",
    "version": 3
   },
   "file_extension": ".py",
   "mimetype": "text/x-python",
   "name": "python",
   "nbconvert_exporter": "python",
   "pygments_lexer": "ipython3",
   "version": "3.7.4"
  }
 },
 "nbformat": 4,
 "nbformat_minor": 2
}
