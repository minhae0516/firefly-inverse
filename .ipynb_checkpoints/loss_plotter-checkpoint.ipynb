{
 "cells": [
  {
   "cell_type": "code",
   "execution_count": 1033,
   "metadata": {},
   "outputs": [
    {
     "name": "stdout",
     "output_type": "stream",
     "text": [
      "12 cores are available\n",
      "Running DDPG Agent: using  cpu\n"
     ]
    }
   ],
   "source": [
    "import torch\n",
    "import torch.nn as nn\n",
    "from torch.autograd import grad\n",
    "import pandas as pd\n",
    "from InverseFuncs import trajectory, getLoss, reset_theta, theta_range\n",
    "\n",
    "from DDPGv2Agent import Agent\n",
    "from FireflyEnv import Model # firefly_task.py\n",
    "from collections import deque\n",
    "from Inverse_Config import Inverse_Config\n",
    "import matplotlib.pyplot as plt\n",
    "import matplotlib.colors as colors\n",
    "\n",
    "# read configuration parameters\n",
    "arg = Inverse_Config()\n",
    "\n",
    "# fix random seed\n",
    "import random\n",
    "random.seed(arg.SEED_NUMBER)\n",
    "import torch\n",
    "torch.manual_seed(arg.SEED_NUMBER)\n",
    "if torch.cuda.is_available():\n",
    "    torch.cuda.manual_seed(arg.SEED_NUMBER)\n",
    "import numpy as np\n",
    "np.random.seed(arg.SEED_NUMBER)\n",
    "import time\n",
    "\n",
    "torch.backends.cudnn.deterministic = True\n",
    "torch.backends.cudnn.benchmark = False\n",
    "\n",
    "\n",
    "import multiprocessing\n",
    "from joblib import Parallel, delayed\n",
    "from tqdm import tqdm\n",
    "\n",
    "num_cores = multiprocessing.cpu_count()\n",
    "print(\"{} cores are available\".format(num_cores))\n",
    "\n",
    "# if gpu is to be used\n",
    "#CUDA = False\n",
    "#device = \"cpu\"\n",
    "\n",
    "CUDA = torch.cuda.is_available()\n",
    "device = torch.device(\"cuda\" if torch.cuda.is_available() else \"cpu\")\n",
    "\n",
    "tic = time.time()\n",
    "\n",
    "\n",
    "\n",
    "filename = '20191231-172726-01081157' # agent information\n",
    "\n",
    "learning_arg = torch.load('../firefly-inverse-data/data/20191231-172726_arg.pkl')\n",
    "\n",
    "DISCOUNT_FACTOR = learning_arg.DISCOUNT_FACTOR\n",
    "arg.gains_range = learning_arg.gains_range\n",
    "arg.std_range = learning_arg.std_range\n",
    "arg.goal_radius_range = learning_arg.goal_radius_range\n",
    "arg.WORLD_SIZE = learning_arg.WORLD_SIZE\n",
    "arg.DELTA_T = learning_arg.DELTA_T\n",
    "arg.EPISODE_TIME = learning_arg.EPISODE_TIME\n",
    "arg.EPISODE_LEN = learning_arg.EPISODE_LEN\n",
    "\n",
    "\n",
    "\n",
    "env = Model(arg) # build an environment\n",
    "env.max_goal_radius = arg.goal_radius_range[1] # use the largest world size for goal radius\n",
    "env.box = arg.WORLD_SIZE\n",
    "agent = Agent(env.state_dim, env.action_dim, arg,  filename, hidden_dim=128, gamma=DISCOUNT_FACTOR, tau=0.001) #, device = \"cpu\")\n",
    "agent.load(filename)\n"
   ]
  },
  {
   "cell_type": "code",
   "execution_count": 1034,
   "metadata": {},
   "outputs": [],
   "source": [
    "def loss_cal(vel, pro_gains_vel, gain_space, true_theta):\n",
    "    \n",
    "    loss_log = torch.zeros(len(gain_space)+1)\n",
    "    pro_gains = torch.zeros(2)\n",
    "    pro_noise_stds = torch.zeros(2)\n",
    "    obs_gains = torch.zeros(2)\n",
    "    obs_noise_stds = torch.zeros(2)\n",
    "    goal_radius = torch.zeros(1)\n",
    "    \n",
    "    theta_log = []\n",
    "    inputs = np.sort(np.append(gain_space, true_theta[1]))\n",
    "\n",
    "    pro_gains[0] = pro_gains_vel\n",
    "    for ang, pro_gains_ang in enumerate(tqdm(inputs)):\n",
    "        pro_gains[1] = pro_gains_ang\n",
    "        for obs_gains_vel  in [true_theta[4]]:#np.append(gain_space, true_theta[4]):\n",
    "            obs_gains[0] = obs_gains_vel\n",
    "            for obs_gains_ang in [true_theta[5]]:#np.append(gain_space, true_theta[5]):\n",
    "                obs_gains[1] = obs_gains_ang\n",
    "                for pro_std_vel in [true_theta[2]]:#np.append(std_space, true_theta[2]):\n",
    "                    pro_noise_stds[0] = pro_std_vel\n",
    "                    for pro_std_ang in [true_theta[3]]:#np.append(std_space, true_theta[3]):\n",
    "                        pro_noise_stds[1] = pro_std_ang\n",
    "                        for obs_std_vel in [true_theta[6]]:#np.append(std_space, true_theta[6]):\n",
    "                            obs_noise_stds[0] = obs_std_vel \n",
    "                            for obs_std_ang in [true_theta[7]]:#np.append(std_space, true_theta[7]):\n",
    "                                obs_noise_stds[1] = obs_std_ang\n",
    "                                for goal_r in [true_theta[8]]: #np.append(goal_radius_space, true_theta[8]):\n",
    "                                    goal_radius[0] = goal_r\n",
    "                                    \n",
    "                                    \n",
    "                                    theta = torch.cat([pro_gains, pro_noise_stds, obs_gains, obs_noise_stds, goal_radius])\n",
    "    \n",
    "    \n",
    "                                    theta_log.append(theta.data)\n",
    "                                    loss = getLoss(agent, x_traj, a_traj, theta, env, arg.gains_range, arg.std_range, arg.PI_STD, arg.NUM_SAMPLES)\n",
    "                                    loss_log[ang] = loss.data\n",
    "                                    #loss_log.append(loss.data)\n",
    "\n",
    "                                    print(\"num:{}, theta:{}, loss:{}\".format(vel, theta, loss))\n",
    "                        \n",
    "                        \n",
    "    \"\"\"\n",
    "    result = {'true_theta': true_theta,\n",
    "         'true_loss': true_loss,\n",
    "         'theta_log': theta_log,\n",
    "         'loss_log': loss_log}\n",
    "    \"\"\"\n",
    "    return loss_log\n"
   ]
  },
  {
   "cell_type": "code",
   "execution_count": 1035,
   "metadata": {},
   "outputs": [
    {
     "name": "stdout",
     "output_type": "stream",
     "text": [
      "true loss:24522.169921875\n",
      "true_theta:tensor([10.7080, 11.7887,  0.1470,  1.1374, 11.0838, 10.3914,  0.6339,  0.8354,\n",
      "         0.4008])\n"
     ]
    }
   ],
   "source": [
    "# true theta\n",
    "true_theta = reset_theta(arg.gains_range, arg.std_range, arg.goal_radius_range)\n",
    "true_theta[0]=10.0\n",
    "true_theta[1]=10.0\n",
    "\n",
    "x_traj, obs_traj, a_traj, _ = trajectory(agent, true_theta, env, arg, arg.gains_range, arg.std_range,arg.goal_radius_range, arg.NUM_EP)  # generate true trajectory\n",
    "true_loss = getLoss(agent, x_traj, a_traj, true_theta, env, arg.gains_range, arg.std_range, arg.PI_STD, arg.NUM_SAMPLES)  # this is the lower bound of loss?\n",
    "print(\"true loss:{}\".format(true_loss))\n",
    "print(\"true_theta:{}\".format(true_theta))\n",
    "\n"
   ]
  },
  {
   "cell_type": "code",
   "execution_count": 1036,
   "metadata": {},
   "outputs": [],
   "source": [
    "gain_space = np.linspace(arg.gains_range[0],arg.gains_range[1], num = 9)\n",
    "std_space = np.linspace(arg.std_range[0], arg.std_range[1], num = 3)\n",
    "goal_radius_space = np.linspace(arg.goal_radius_range[0], arg.goal_radius_range[1], num =3)"
   ]
  },
  {
   "cell_type": "code",
   "execution_count": 1037,
   "metadata": {},
   "outputs": [
    {
     "data": {
      "text/plain": [
       "array([ 8. ,  8.5,  9. ,  9.5, 10. , 10.5, 11. , 11.5, 12. ])"
      ]
     },
     "execution_count": 1037,
     "metadata": {},
     "output_type": "execute_result"
    }
   ],
   "source": [
    "gain_space"
   ]
  },
  {
   "cell_type": "code",
   "execution_count": 1038,
   "metadata": {},
   "outputs": [
    {
     "data": {
      "text/plain": [
       "tensor([10.7080, 11.7887,  0.1470,  1.1374, 11.0838, 10.3914,  0.6339,  0.8354,\n",
       "         0.4008])"
      ]
     },
     "execution_count": 1038,
     "metadata": {},
     "output_type": "execute_result"
    }
   ],
   "source": [
    "true_theta\n"
   ]
  },
  {
   "cell_type": "code",
   "execution_count": 1039,
   "metadata": {},
   "outputs": [
    {
     "data": {
      "text/plain": [
       "'\\nfor vel, pro_gains_vel in enumerate(inputs): \\n    result_log = loss_cal(vel, pro_gains_vel, gain_space, true_theta) \\n'"
      ]
     },
     "execution_count": 1039,
     "metadata": {},
     "output_type": "execute_result"
    }
   ],
   "source": [
    "inputs = np.sort(np.append(gain_space, true_theta[0]))\n",
    "#loss_log = torch.zeros([len(gain_space)+1, len(gain_space)+1])\n",
    "loss_log = Parallel(n_jobs=num_cores)(delayed(loss_cal)(vel, pro_gains_vel, gain_space, true_theta) for vel, pro_gains_vel in enumerate(inputs))\n",
    "\n",
    "\"\"\"\n",
    "for vel, pro_gains_vel in enumerate(inputs): \n",
    "    result_log = loss_cal(vel, pro_gains_vel, gain_space, true_theta) \n",
    "\"\"\"\n"
   ]
  },
  {
   "cell_type": "code",
   "execution_count": 1040,
   "metadata": {},
   "outputs": [
    {
     "data": {
      "text/plain": [
       "[tensor([43729.5273, 43569.3594, 40926.1836, 39000.9258, 37837.2266, 36380.9219,\n",
       "         37234.6719, 35883.2344, 37150.6016, 36668.6602]),\n",
       " tensor([40873.9844, 39911.9922, 37899.0469, 37077.6836, 35960.5039, 34934.3867,\n",
       "         33565.5039, 32676.2402, 34791.2578, 35134.8906]),\n",
       " tensor([34926.3945, 33234.0781, 32278.8008, 29834.1543, 30673.1211, 29054.8945,\n",
       "         29162.5859, 29652.6602, 28557.4395, 30189.7910]),\n",
       " tensor([29110.5801, 27576.3574, 27724.4121, 25517.8555, 25853.0020, 24689.2090,\n",
       "         25228.6426, 22861.8203, 23457.3320, 23751.9844]),\n",
       " tensor([22284.3691, 21483.6211, 21435.1641, 19841.0234, 19536.1328, 19930.7578,\n",
       "         19049.2266, 17872.2988, 16761.1348, 17277.0879]),\n",
       " tensor([17129.4062, 16490.6113, 14299.2646, 14894.9756, 13426.0957, 13212.1035,\n",
       "         13165.9043, 13720.4482, 11802.3662, 12954.6201]),\n",
       " tensor([15443.5371, 14429.1436, 14703.9971, 12238.2959, 12154.0723, 12611.9785,\n",
       "         11571.2041, 11255.4668, 10688.9160, 11652.0645]),\n",
       " tensor([15947.6602, 15255.3672, 14118.9189, 12974.2256, 13801.0742, 11403.9512,\n",
       "         12350.6123, 11888.1016, 11708.0791, 12471.3975]),\n",
       " tensor([17300.1582, 16030.0234, 15605.6221, 14465.3135, 14103.6963, 14004.1895,\n",
       "         14642.5635, 14272.7061, 15377.8740, 14829.1572]),\n",
       " tensor([16584.6250, 16077.7949, 15911.3760, 15119.1650, 15647.9463, 15183.8594,\n",
       "         15209.2764, 15102.8350, 15888.2998, 15663.9375])]"
      ]
     },
     "execution_count": 1040,
     "metadata": {},
     "output_type": "execute_result"
    }
   ],
   "source": [
    "loss_log\n",
    "    "
   ]
  },
  {
   "cell_type": "code",
   "execution_count": 1041,
   "metadata": {},
   "outputs": [],
   "source": [
    "loss_log_tot = torch.cat([loss_log[i] for i in range (len(loss_log))])"
   ]
  },
  {
   "cell_type": "code",
   "execution_count": 1042,
   "metadata": {},
   "outputs": [
    {
     "data": {
      "text/plain": [
       "tensor([43729.5273, 43569.3594, 40926.1836, 39000.9258, 37837.2266, 36380.9219,\n",
       "        37234.6719, 35883.2344, 37150.6016, 36668.6602, 40873.9844, 39911.9922,\n",
       "        37899.0469, 37077.6836, 35960.5039, 34934.3867, 33565.5039, 32676.2402,\n",
       "        34791.2578, 35134.8906, 34926.3945, 33234.0781, 32278.8008, 29834.1543,\n",
       "        30673.1211, 29054.8945, 29162.5859, 29652.6602, 28557.4395, 30189.7910,\n",
       "        29110.5801, 27576.3574, 27724.4121, 25517.8555, 25853.0020, 24689.2090,\n",
       "        25228.6426, 22861.8203, 23457.3320, 23751.9844, 22284.3691, 21483.6211,\n",
       "        21435.1641, 19841.0234, 19536.1328, 19930.7578, 19049.2266, 17872.2988,\n",
       "        16761.1348, 17277.0879, 17129.4062, 16490.6113, 14299.2646, 14894.9756,\n",
       "        13426.0957, 13212.1035, 13165.9043, 13720.4482, 11802.3662, 12954.6201,\n",
       "        15443.5371, 14429.1436, 14703.9971, 12238.2959, 12154.0723, 12611.9785,\n",
       "        11571.2041, 11255.4668, 10688.9160, 11652.0645, 15947.6602, 15255.3672,\n",
       "        14118.9189, 12974.2256, 13801.0742, 11403.9512, 12350.6123, 11888.1016,\n",
       "        11708.0791, 12471.3975, 17300.1582, 16030.0234, 15605.6221, 14465.3135,\n",
       "        14103.6963, 14004.1895, 14642.5635, 14272.7061, 15377.8740, 14829.1572,\n",
       "        16584.6250, 16077.7949, 15911.3760, 15119.1650, 15647.9463, 15183.8594,\n",
       "        15209.2764, 15102.8350, 15888.2998, 15663.9375])"
      ]
     },
     "execution_count": 1042,
     "metadata": {},
     "output_type": "execute_result"
    }
   ],
   "source": [
    "loss_log_tot"
   ]
  },
  {
   "cell_type": "code",
   "execution_count": 1043,
   "metadata": {},
   "outputs": [
    {
     "data": {
      "text/plain": [
       "tensor([10.7080, 11.7887,  0.1470,  1.1374, 11.0838, 10.3914,  0.6339,  0.8354,\n",
       "         0.4008])"
      ]
     },
     "execution_count": 1043,
     "metadata": {},
     "output_type": "execute_result"
    }
   ],
   "source": [
    "true_theta"
   ]
  },
  {
   "cell_type": "code",
   "execution_count": 1044,
   "metadata": {
    "scrolled": true
   },
   "outputs": [
    {
     "data": {
      "text/plain": [
       "Text(0.5, 1.0, 'true[forw,ang]:tensor([10.7080, 11.7887])')"
      ]
     },
     "execution_count": 1044,
     "metadata": {},
     "output_type": "execute_result"
    },
    {
     "data": {
      "image/png": "[encoded data removed]",
      "text/plain": [
       "<Figure size 432x288 with 2 Axes>"
      ]
     },
     "metadata": {
      "needs_background": "light"
     },
     "output_type": "display_data"
    }
   ],
   "source": [
    "Z = loss_log_tot\n",
    "plt.pcolor(inputs, inputs, Z.view(len(inputs), len(inputs)), norm=colors.LogNorm(vmin=Z.min(), vmax=Z.max()))\n",
    "plt.colorbar()\n",
    "plt.xlabel('process_ang')\n",
    "plt.ylabel('process_forward')\n",
    "plt.title('true[forw,ang]:{}'.format(true_theta[:2].data))"
   ]
  },
  {
   "cell_type": "code",
   "execution_count": 1045,
   "metadata": {},
   "outputs": [],
   "source": [
    "torch.save(result_log, '../firefly-inverse-data/data/'+filename+'loss_plotter.pkl')"
   ]
  }
 ],
 "metadata": {
  "kernelspec": {
   "display_name": "Python 3",
   "language": "python",
   "name": "python3"
  },
  "language_info": {
   "codemirror_mode": {
    "name": "ipython",
    "version": 3
   },
   "file_extension": ".py",
   "mimetype": "text/x-python",
   "name": "python",
   "nbconvert_exporter": "python",
   "pygments_lexer": "ipython3",
   "version": "3.7.4"
  }
 },
 "nbformat": 4,
 "nbformat_minor": 2
}
